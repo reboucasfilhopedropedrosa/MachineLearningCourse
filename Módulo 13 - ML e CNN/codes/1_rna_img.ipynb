{
  "nbformat": 4,
  "nbformat_minor": 0,
  "metadata": {
    "colab": {
      "provenance": []
    },
    "kernelspec": {
      "name": "python3",
      "display_name": "Python 3"
    },
    "language_info": {
      "name": "python"
    }
  },
  "cells": [
    {
      "cell_type": "markdown",
      "source": [
        "Exemplo retirado do [notebook](https://goo.gle/34cHkDk)"
      ],
      "metadata": {
        "id": "sWyTOStTJ7-t"
      }
    },
    {
      "cell_type": "code",
      "execution_count": null,
      "metadata": {
        "colab": {
          "base_uri": "https://localhost:8080/"
        },
        "id": "QmqxP3CqHzX4",
        "outputId": "c124274b-62ae-4f00-afcc-a8619ef2b001"
      },
      "outputs": [
        {
          "output_type": "stream",
          "name": "stdout",
          "text": [
            "2.13.0\n"
          ]
        }
      ],
      "source": [
        "import tensorflow as tf\n",
        "print(tf.__version__)"
      ]
    },
    {
      "cell_type": "markdown",
      "source": [
        "Treinaremos uma rede neural para reconhecer peças de roupa de um conjunto de dados comum chamado Fashion MNIST. Você pode aprender mais sobre este conjunto de dados [here](https://github.com/zalandoresearch/fashion-mnist).\n",
        "\n",
        "Contém 70.000 peças de roupa em 10 categorias diferentes. Cada peça de roupa está em uma imagem em escala de cinza 28x28. Você pode ver alguns exemplos aqui: ![alt text](https://github.com/zalandoresearch/fashion-mnist/raw/master/doc/img/fashion-mnist-sprite.png)"
      ],
      "metadata": {
        "id": "I-vrAQV7IDh3"
      }
    },
    {
      "cell_type": "code",
      "source": [
        "mnist = tf.keras.datasets.fashion_mnist"
      ],
      "metadata": {
        "id": "fKopGccCH2Dp"
      },
      "execution_count": null,
      "outputs": []
    },
    {
      "cell_type": "code",
      "source": [
        "(training_images, training_labels), (test_images, test_labels) = mnist.load_data()"
      ],
      "metadata": {
        "id": "FSmkbhb7IZB7"
      },
      "execution_count": null,
      "outputs": []
    },
    {
      "cell_type": "code",
      "source": [
        "import matplotlib.pyplot as plt\n",
        "plt.imshow(training_images[0])\n",
        "print(training_labels[0])\n",
        "print(training_images[0])"
      ],
      "metadata": {
        "id": "0JN5_F9SIaZr"
      },
      "execution_count": null,
      "outputs": []
    },
    {
      "cell_type": "markdown",
      "source": [
        "Você notará que todos os valores do número estão entre 0 e 255. Se estivermos treinando uma rede neural, por vários motivos será mais fácil tratarmos todos os valores como entre 0 e 1, um processo chamado ' normalizing'.. .e felizmente em Python é fácil normalizar uma lista como esta sem loop. Você faz assim:"
      ],
      "metadata": {
        "id": "ZjO-jHqUIi3U"
      }
    },
    {
      "cell_type": "code",
      "source": [
        "training_images  = training_images / 255.0\n",
        "test_images = test_images / 255.0"
      ],
      "metadata": {
        "id": "SV8iu6-uIcvu"
      },
      "execution_count": null,
      "outputs": []
    },
    {
      "cell_type": "code",
      "source": [
        "model = tf.keras.models.Sequential([tf.keras.layers.Flatten(),\n",
        "                                    tf.keras.layers.Dense(128, activation=tf.nn.relu),\n",
        "                                    tf.keras.layers.Dense(10, activation=tf.nn.softmax)])"
      ],
      "metadata": {
        "id": "YCeDZtpHIogq"
      },
      "execution_count": null,
      "outputs": []
    },
    {
      "cell_type": "markdown",
      "source": [
        "**Sequential**: Define uma SEQUÊNCIA de camadas na rede neural\n",
        "\n",
        "**Flatten**: lembra antes onde nossas imagens eram um quadrado, quando você as imprimiu? Flatten apenas pega esse quadrado e o transforma em um conjunto unidimensional.\n",
        "\n",
        "**Dense**: Adiciona uma camada de neurônios\n",
        "\n",
        "Cada camada de neurônios precisa de uma **função de ativação** para lhes dizer o que fazer. Há muitas opções, mas use-as por enquanto.\n",
        "\n",
        "**Relu** significa efetivamente \"Se X>0 retornar X, caso contrário, retornar 0\" - então o que ele faz é passar apenas valores 0 ou maiores para a próxima camada da rede.\n",
        "\n",
        "**Softmax** pega um conjunto de valores e efetivamente escolhe o maior deles, por exemplo, se a saída da última camada for semelhante a [0,1, 0,1, 0,05, 0,1, 9,5, 0,1, 0,05, 0,05, 0,05 ], evita que você pesquise em busca do maior valor e o transforma em [0,0,0,0,1,0,0,0,0] - O objetivo é economizar muita codificação!"
      ],
      "metadata": {
        "id": "z_1z6L2HI8V4"
      }
    },
    {
      "cell_type": "code",
      "source": [
        "model.compile(optimizer = tf.keras.optimizers.Adam(),\n",
        "              loss = 'sparse_categorical_crossentropy',\n",
        "              metrics=['accuracy'])\n",
        "\n",
        "model.fit(training_images, training_labels, epochs=5)"
      ],
      "metadata": {
        "id": "m-QLfrPRI8Aa"
      },
      "execution_count": null,
      "outputs": []
    },
    {
      "cell_type": "markdown",
      "source": [
        "Depois de concluir o treinamento - você deverá ver um valor de precisão no final da época final. Pode parecer algo como 0,9098. Isso indica que sua rede neural tem cerca de 91% de precisão na classificação dos dados de treinamento. Ou seja, descobriu uma correspondência de padrão entre a imagem e os rótulos que funcionou 91% das vezes. Não é ótimo, mas não é ruim, considerando que foi treinado apenas por 5 épocas e feito rapidamente.\n",
        "\n",
        "Mas como isso funcionaria com dados invisíveis? É por isso que temos as imagens de teste. Podemos chamar model.evaluate e passar os dois conjuntos, e ele reportará a perda de cada um. Vamos tentar:"
      ],
      "metadata": {
        "id": "hlAvHQ4oJhXX"
      }
    },
    {
      "cell_type": "code",
      "source": [
        "model.evaluate(test_images, test_labels)"
      ],
      "metadata": {
        "id": "wtY6CQ-OI3v3"
      },
      "execution_count": null,
      "outputs": []
    },
    {
      "cell_type": "markdown",
      "source": [
        "Para mim, isso retornou uma precisão de cerca de 0,8838, o que significa que foi cerca de 88% preciso. Como esperado, provavelmente não funcionaria tão bem com dados *invisíveis* quanto com os dados nos quais foi treinado! Ao longo deste curso, você verá maneiras de melhorar isso."
      ],
      "metadata": {
        "id": "QQG0LGmQJvSQ"
      }
    },
    {
      "cell_type": "code",
      "source": [],
      "metadata": {
        "id": "sKorMKyAJn2c"
      },
      "execution_count": null,
      "outputs": []
    },
    {
      "cell_type": "markdown",
      "metadata": {
        "id": "htldZNWcIPSN"
      },
      "source": [
        "# Exercícios de Exploração"
      ]
    },
    {
      "cell_type": "markdown",
      "metadata": {
        "id": "rquQqIx4AaGR"
      },
      "source": [
        "#Exercício 1:\n",
        "Para este primeiro exercício execute o código abaixo: Ele cria um conjunto de classificações para cada uma das imagens de teste e a seguir imprime a primeira entrada nas classificações. A saída, depois de executada, é uma lista de números. Por que você acha que isso acontece e o que esses números representam?"
      ]
    },
    {
      "cell_type": "code",
      "metadata": {
        "id": "RyEIki0z_hAD"
      },
      "source": [
        "classifications = model.predict(test_images)\n",
        "\n",
        "print(classifications[0])"
      ],
      "execution_count": null,
      "outputs": []
    },
    {
      "cell_type": "markdown",
      "metadata": {
        "id": "MdzqbQhRArzm"
      },
      "source": [
        "**Dica**: tente executar print(test_labels[0]) - e você obterá um 9. Isso ajuda você a entender por que esta lista tem a aparência que tem?"
      ]
    },
    {
      "cell_type": "code",
      "metadata": {
        "id": "WnBGOrMiA1n5"
      },
      "source": [
        "print(test_labels[0])"
      ],
      "execution_count": null,
      "outputs": []
    },
    {
      "cell_type": "markdown",
      "metadata": {
        "id": "uUs7eqr7uSvs"
      },
      "source": [
        "### O que esta lista representa?\n",
        "\n",
        "\n",
        "1. São 10 valores aleatórios sem sentido\n",
        "2. São as 10 primeiras classificações que o computador fez\n",
        "3. É a probabilidade de este item pertencer a cada uma das 10 classes\n"
      ]
    },
    {
      "cell_type": "markdown",
      "metadata": {
        "id": "CD4kC6TBu-69"
      },
      "source": [
        "### Como você sabe que esta lista indica que o item é uma bota?\n",
        "\n",
        "\n",
        "1. Não há informações suficientes para responder a essa pergunta\n",
        "2. O décimo elemento da lista é o maior, e a bota é rotulada como 9\n",
        "2. A bota tem o rótulo 9 e há 0-> 9 elementos na lista"
      ]
    },
    {
      "cell_type": "markdown",
      "metadata": {
        "id": "OgQSIfDSOWv6"
      },
      "source": [
        "#Exercício 2:\n",
        "Vejamos agora as camadas do seu modelo. Experimente valores diferentes para a camada densa com 512 neurônios. Que resultados diferentes você obtém em termos de perda, tempo de treinamento, etc.? Por que você acha que é esse o caso?"
      ]
    },
    {
      "cell_type": "code",
      "metadata": {
        "id": "GSZSwV5UObQP"
      },
      "source": [
        "import tensorflow as tf\n",
        "print(tf.__version__)\n",
        "\n",
        "mnist = tf.keras.datasets.fashion_mnist\n",
        "\n",
        "(training_images, training_labels) ,  (test_images, test_labels) = mnist.load_data()\n",
        "\n",
        "training_images = training_images/255.0\n",
        "test_images = test_images/255.0\n",
        "\n",
        "model = tf.keras.models.Sequential([tf.keras.layers.Flatten(),\n",
        "                                    tf.keras.layers.Dense(1024, activation=tf.nn.relu),\n",
        "                                    tf.keras.layers.Dense(10, activation=tf.nn.softmax)])\n",
        "\n",
        "model.compile(optimizer = 'adam',\n",
        "              loss = 'sparse_categorical_crossentropy')\n",
        "\n",
        "model.fit(training_images, training_labels, epochs=5)\n",
        "\n",
        "model.evaluate(test_images, test_labels)\n",
        "\n",
        "classifications = model.predict(test_images)\n",
        "\n",
        "print(classifications[0])\n",
        "print(test_labels[0])"
      ],
      "execution_count": null,
      "outputs": []
    },
    {
      "cell_type": "markdown",
      "metadata": {
        "id": "bOOEnHZFv5cS"
      },
      "source": [
        "###Pergunta 1. Aumento para 1.024 neurônios – Qual é o impacto?\n",
        "\n",
        "1. O treinamento demora mais, mas é mais preciso\n",
        "2. O treinamento leva mais tempo, mas não afeta a precisão\n",
        "3. O treinamento leva o mesmo tempo, mas é mais preciso"
      ]
    },
    {
      "cell_type": "markdown",
      "metadata": {
        "id": "WtWxK16hQxLN"
      },
      "source": [
        "#Exercício 3:\n",
        "\n",
        "O que aconteceria se você removesse a camada Flatten(). Por que você acha que é esse o caso?\n",
        "\n",
        "Você recebe um erro sobre o formato dos dados. Pode parecer vago agora, mas reforça a regra prática de que a primeira camada da sua rede deve ter o mesmo formato dos seus dados. No momento, nossos dados são imagens de 28x28, e 28 camadas de 28 neurônios seriam inviáveis, então faz mais sentido 'achatar' essas 28,28 em 784x1. Em vez de escrevermos todo o código para lidar com isso nós mesmos, adicionamos a camada Flatten() no início e, quando os arrays forem carregados no modelo posteriormente, eles serão automaticamente achatados para nós."
      ]
    },
    {
      "cell_type": "code",
      "metadata": {
        "id": "ExNxCwhcQ18S"
      },
      "source": [
        "import tensorflow as tf\n",
        "print(tf.__version__)\n",
        "\n",
        "mnist = tf.keras.datasets.fashion_mnist\n",
        "\n",
        "(training_images, training_labels) ,  (test_images, test_labels) = mnist.load_data()\n",
        "\n",
        "training_images = training_images/255.0\n",
        "test_images = test_images/255.0\n",
        "\n",
        "\n",
        "model = tf.keras.models.Sequential([tf.keras.layers.Flatten(),\n",
        "                                    tf.keras.layers.Dense(64, activation=tf.nn.relu),\n",
        "                                    tf.keras.layers.Dense(10, activation=tf.nn.softmax)])\n",
        "\n",
        "# This version has the 'flatten' removed. Replace the above with this one to see the error.\n",
        "#model = tf.keras.models.Sequential([tf.keras.layers.Dense(64, activation=tf.nn.relu),\n",
        "#                                    tf.keras.layers.Dense(10, activation=tf.nn.softmax)])\n",
        "\n",
        "\n",
        "model.compile(optimizer = 'adam',\n",
        "              loss = 'sparse_categorical_crossentropy')\n",
        "\n",
        "model.fit(training_images, training_labels, epochs=5)\n",
        "\n",
        "model.evaluate(test_images, test_labels)\n",
        "\n",
        "classifications = model.predict(test_images)\n",
        "\n",
        "print(classifications[0])\n",
        "print(test_labels[0])"
      ],
      "execution_count": null,
      "outputs": []
    },
    {
      "cell_type": "markdown",
      "metadata": {
        "id": "VqoCR-ieSGDg"
      },
      "source": [
        "#Exercício 4:\n",
        "\n",
        "Considere as camadas finais (de saída). Por que existem 10 deles? O que aconteceria se você tivesse um valor diferente de 10? Por exemplo, tente treinar a rede com 5\n",
        "\n",
        "Você recebe um erro assim que encontra um valor inesperado. Outra regra prática: o número de neurônios na última camada deve corresponder ao número de classes para as quais você está classificando. Neste caso são os dígitos de 0 a 9, então há 10 deles, portanto você deve ter 10 neurônios em sua camada final."
      ]
    },
    {
      "cell_type": "code",
      "metadata": {
        "id": "MMckVntcSPvo"
      },
      "source": [
        "import tensorflow as tf\n",
        "print(tf.__version__)\n",
        "\n",
        "mnist = tf.keras.datasets.fashion_mnist\n",
        "\n",
        "(training_images, training_labels) ,  (test_images, test_labels) = mnist.load_data()\n",
        "\n",
        "training_images = training_images/255.0\n",
        "test_images = test_images/255.0\n",
        "\n",
        "model = tf.keras.models.Sequential([tf.keras.layers.Flatten(),\n",
        "                                    tf.keras.layers.Dense(64, activation=tf.nn.relu),\n",
        "                                    tf.keras.layers.Dense(10, activation=tf.nn.softmax)])\n",
        "\n",
        "# Replace the above model definiton with this one to see the network with 5 output layers\n",
        "# And you'll see errors as a result!\n",
        "# model = tf.keras.models.Sequential([tf.keras.layers.Flatten(),\n",
        "#                                    tf.keras.layers.Dense(64, activation=tf.nn.relu),\n",
        "#                                    tf.keras.layers.Dense(5, activation=tf.nn.softmax)])\n",
        "\n",
        "model.compile(optimizer = 'adam',\n",
        "              loss = 'sparse_categorical_crossentropy')\n",
        "\n",
        "model.fit(training_images, training_labels, epochs=5)\n",
        "\n",
        "model.evaluate(test_images, test_labels)\n",
        "\n",
        "classifications = model.predict(test_images)\n",
        "\n",
        "print(classifications[0])\n",
        "print(test_labels[0])"
      ],
      "execution_count": null,
      "outputs": []
    },
    {
      "cell_type": "markdown",
      "metadata": {
        "id": "-0lF5MuvSuZF"
      },
      "source": [
        "##Exercício 5:\n",
        "\n",
        "Considere os efeitos de camadas adicionais na rede. O que acontecerá se você adicionar outra camada entre aquela com 512 e a camada final com 10.\n",
        "\n",
        "Resposta: Não há um impacto significativo – porque são dados relativamente simples. Para dados muito mais complexos (incluindo imagens coloridas classificadas como flores que você verá na próxima lição), muitas vezes são necessárias camadas extras."
      ]
    },
    {
      "cell_type": "code",
      "metadata": {
        "id": "b1YPa6UhS8Es"
      },
      "source": [
        "import tensorflow as tf\n",
        "print(tf.__version__)\n",
        "\n",
        "mnist = tf.keras.datasets.fashion_mnist\n",
        "\n",
        "(training_images, training_labels) ,  (test_images, test_labels) = mnist.load_data()\n",
        "\n",
        "training_images = training_images/255.0\n",
        "test_images = test_images/255.0\n",
        "\n",
        "model = tf.keras.models.Sequential([tf.keras.layers.Flatten(),\n",
        "                                    tf.keras.layers.Dense(512, activation=tf.nn.relu),\n",
        "                                    tf.keras.layers.Dense(256, activation=tf.nn.relu),\n",
        "                                    tf.keras.layers.Dense(10, activation=tf.nn.softmax)])\n",
        "\n",
        "model.compile(optimizer = 'adam',\n",
        "              loss = 'sparse_categorical_crossentropy')\n",
        "\n",
        "model.fit(training_images, training_labels, epochs=5)\n",
        "\n",
        "model.evaluate(test_images, test_labels)\n",
        "\n",
        "classifications = model.predict(test_images)\n",
        "\n",
        "print(classifications[0])\n",
        "print(test_labels[0])"
      ],
      "execution_count": null,
      "outputs": []
    },
    {
      "cell_type": "code",
      "metadata": {
        "id": "sE7PDe6LWAHb"
      },
      "source": [],
      "execution_count": null,
      "outputs": []
    },
    {
      "cell_type": "markdown",
      "metadata": {
        "id": "Bql9fyaNUSFy"
      },
      "source": [
        "#Exercício 6:\n",
        "\n",
        "Considere o impacto do treinamento por mais ou menos épocas. Por que você acha que seria esse o caso?\n",
        "\n",
        "Experimente 15 épocas - você provavelmente obterá um modelo com uma perda muito melhor do que aquele com 5\n",
        "Experimente 30 épocas - você poderá ver que o valor da perda para de diminuir e às vezes aumenta. Este é um efeito colateral de algo chamado 'overfitting', sobre o qual você pode aprender [em algum lugar] e é algo que você precisa observar ao treinar redes neurais. Não adianta perder tempo treinando se você não está melhorando sua perda, certo! :)"
      ]
    },
    {
      "cell_type": "code",
      "metadata": {
        "id": "uE3esj9BURQe"
      },
      "source": [
        "import tensorflow as tf\n",
        "print(tf.__version__)\n",
        "\n",
        "mnist = tf.keras.datasets.fashion_mnist\n",
        "\n",
        "(training_images, training_labels) ,  (test_images, test_labels) = mnist.load_data()\n",
        "\n",
        "training_images = training_images/255.0\n",
        "test_images = test_images/255.0\n",
        "\n",
        "model = tf.keras.models.Sequential([tf.keras.layers.Flatten(),\n",
        "                                    tf.keras.layers.Dense(128, activation=tf.nn.relu),\n",
        "                                    tf.keras.layers.Dense(10, activation=tf.nn.softmax)])\n",
        "\n",
        "model.compile(optimizer = 'adam',\n",
        "              loss = 'sparse_categorical_crossentropy')\n",
        "\n",
        "model.fit(training_images, training_labels, epochs=30)\n",
        "\n",
        "model.evaluate(test_images, test_labels)\n",
        "\n",
        "classifications = model.predict(test_images)\n",
        "\n",
        "print(classifications[34])\n",
        "print(test_labels[34])"
      ],
      "execution_count": null,
      "outputs": []
    },
    {
      "cell_type": "markdown",
      "metadata": {
        "id": "HS3vVkOgCDGZ"
      },
      "source": [
        "#Exercício 7:\n",
        "\n",
        "Antes de treinar, você normalizou os dados, passando de valores de 0 a 255 para valores de 0 a 1. Qual seria o impacto de remover isso? Aqui está o código completo para tentar. Por que você acha que obtém resultados diferentes?"
      ]
    },
    {
      "cell_type": "code",
      "metadata": {
        "id": "JDqNAqrpCNg0"
      },
      "source": [
        "import tensorflow as tf\n",
        "print(tf.__version__)\n",
        "mnist = tf.keras.datasets.fashion_mnist\n",
        "(training_images, training_labels), (test_images, test_labels) = mnist.load_data()\n",
        "# To experiment with removing normalization, comment out the following 2 lines\n",
        "training_images=training_images/255.0\n",
        "test_images=test_images/255.0\n",
        "model = tf.keras.models.Sequential([\n",
        "  tf.keras.layers.Flatten(),\n",
        "  tf.keras.layers.Dense(512, activation=tf.nn.relu),\n",
        "  tf.keras.layers.Dense(10, activation=tf.nn.softmax)\n",
        "])\n",
        "model.compile(optimizer='adam', loss='sparse_categorical_crossentropy')\n",
        "model.fit(training_images, training_labels, epochs=5)\n",
        "model.evaluate(test_images, test_labels)\n",
        "classifications = model.predict(test_images)\n",
        "print(classifications[0])\n",
        "print(test_labels[0])"
      ],
      "execution_count": null,
      "outputs": []
    },
    {
      "cell_type": "markdown",
      "metadata": {
        "id": "E7W2PT66ZBHQ"
      },
      "source": [
        "#Exercício 8:\n",
        "\n",
        "Anteriormente, quando você treinou para épocas extras, você teve um problema em que sua perda poderia mudar. Pode ter demorado um pouco para você esperar o treinamento fazer isso e você pode ter pensado 'não seria bom se eu pudesse interromper o treinamento quando atingir o valor desejado?' - ou seja, 95% de precisão pode ser suficiente para você, e se você atingir isso depois de 3 épocas, por que ficar esperando que termine muito mais épocas... Então, como você consertaria isso? Como qualquer outro programa... você tem retornos de chamada! Vamos vê-los em ação..."
      ]
    },
    {
      "cell_type": "code",
      "metadata": {
        "id": "pkaEHHgqZbYv"
      },
      "source": [
        "import tensorflow as tf\n",
        "print(tf.__version__)\n",
        "\n",
        "class myCallback(tf.keras.callbacks.Callback):\n",
        "  def on_epoch_end(self, epoch, logs={}):\n",
        "    if(logs.get('accuracy')>0.9):\n",
        "      print(\"\\nReached 90% accuracy so cancelling training!\")\n",
        "      self.model.stop_training = True\n",
        "\n",
        "callbacks = myCallback()\n",
        "mnist = tf.keras.datasets.fashion_mnist\n",
        "(training_images, training_labels), (test_images, test_labels) = mnist.load_data()\n",
        "training_images=training_images/255.0\n",
        "test_images=test_images/255.0\n",
        "model = tf.keras.models.Sequential([\n",
        "  tf.keras.layers.Flatten(),\n",
        "  tf.keras.layers.Dense(512, activation=tf.nn.relu),\n",
        "  tf.keras.layers.Dense(10, activation=tf.nn.softmax)\n",
        "])\n",
        "model.compile(optimizer='adam', loss='sparse_categorical_crossentropy', metrics=['accuracy'])\n",
        "model.fit(training_images, training_labels, epochs=5, callbacks=[callbacks])\n",
        "\n",
        "\n"
      ],
      "execution_count": null,
      "outputs": []
    },
    {
      "cell_type": "markdown",
      "source": [],
      "metadata": {
        "id": "R-jaisUFJqrK"
      }
    },
    {
      "cell_type": "code",
      "source": [],
      "metadata": {
        "id": "v3Iy7r2mbfyL"
      },
      "execution_count": null,
      "outputs": []
    },
    {
      "cell_type": "code",
      "source": [
        "import tensorflow as tf\n",
        "model = tf.keras.models.Sequential([\n",
        "  tf.keras.layers.Conv2D(64, (3, 3), activation='relu',\n",
        "                    input_shape=(28, 28, 1)),\n",
        "  tf.keras.layers.MaxPooling2D(2,2),\n",
        "  tf.keras.layers.Flatten(),\n",
        "  tf.keras.layers.Dense(128, activation='relu'),\n",
        "  tf.keras.layers.Dense(10, activation='softmax')\n",
        "])\n"
      ],
      "metadata": {
        "id": "5zGjtY3wbh1C"
      },
      "execution_count": null,
      "outputs": []
    },
    {
      "cell_type": "code",
      "source": [
        "model = tf.keras.models.Sequential([\n",
        "  tf.keras.layers.Conv2D(64, (3, 3), activation='relu',\n",
        "                    input_shape=(28, 28, 1)),\n",
        "  tf.keras.layers.MaxPooling2D(2, 2),\n",
        "  tf.keras.layers.Conv2D(64, (3, 3), activation='relu'),\n",
        "  tf.keras.layers.MaxPooling2D(2,2),\n",
        "  tf.keras.layers.Flatten(),\n",
        "  tf.keras.layers.Dense(128, activation='relu'),\n",
        "  tf.keras.layers.Dense(10, activation='softmax')\n",
        "])\n"
      ],
      "metadata": {
        "id": "jv2bITgVbk4q"
      },
      "execution_count": null,
      "outputs": []
    }
  ]
}