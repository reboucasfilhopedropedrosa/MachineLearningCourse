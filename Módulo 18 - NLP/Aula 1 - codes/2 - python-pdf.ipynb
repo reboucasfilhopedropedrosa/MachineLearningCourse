{
 "cells": [
  {
   "cell_type": "markdown",
   "metadata": {},
   "source": [
    "pip install pypdf2"
   ]
  },
  {
   "cell_type": "code",
   "execution_count": 1,
   "metadata": {},
   "outputs": [],
   "source": [
    "import PyPDF2"
   ]
  },
  {
   "cell_type": "code",
   "execution_count": 2,
   "metadata": {},
   "outputs": [],
   "source": [
    "file = open(\"What is Lorem Ipsum.pdf\",'rb')"
   ]
  },
  {
   "cell_type": "code",
   "execution_count": 3,
   "metadata": {},
   "outputs": [],
   "source": [
    "pdf = PyPDF2.PdfReader(file)"
   ]
  },
  {
   "cell_type": "code",
   "execution_count": 4,
   "metadata": {},
   "outputs": [
    {
     "data": {
      "text/plain": [
       "3"
      ]
     },
     "execution_count": 4,
     "metadata": {},
     "output_type": "execute_result"
    }
   ],
   "source": [
    "len(pdf.pages)"
   ]
  },
  {
   "cell_type": "code",
   "execution_count": 5,
   "metadata": {},
   "outputs": [],
   "source": [
    "pag_dois = pdf.pages[1]"
   ]
  },
  {
   "cell_type": "code",
   "execution_count": 6,
   "metadata": {},
   "outputs": [
    {
     "data": {
      "text/plain": [
       "{'/Type': '/Page',\n",
       " '/Parent': {'/Type': '/Pages',\n",
       "  '/Count': 3,\n",
       "  '/Kids': [IndirectObject(3, 0, 2111144557056),\n",
       "   IndirectObject(17, 0, 2111144557056),\n",
       "   IndirectObject(19, 0, 2111144557056)]},\n",
       " '/Resources': {'/ExtGState': {'/GS5': {'/Type': '/ExtGState',\n",
       "    '/BM': '/Normal',\n",
       "    '/ca': 1},\n",
       "   '/GS8': {'/Type': '/ExtGState', '/BM': '/Normal', '/CA': 1}},\n",
       "  '/Font': {'/F3': {'/Type': '/Font',\n",
       "    '/Subtype': '/TrueType',\n",
       "    '/Name': '/F3',\n",
       "    '/BaseFont': '/BCDGEE+Open Sans',\n",
       "    '/Encoding': '/WinAnsiEncoding',\n",
       "    '/FontDescriptor': {'/Type': '/FontDescriptor',\n",
       "     '/FontName': '/BCDGEE+Open Sans',\n",
       "     '/Flags': 32,\n",
       "     '/ItalicAngle': 0,\n",
       "     '/Ascent': 1069,\n",
       "     '/Descent': -240,\n",
       "     '/CapHeight': 765,\n",
       "     '/AvgWidth': 589,\n",
       "     '/MaxWidth': 1754,\n",
       "     '/FontWeight': 400,\n",
       "     '/XHeight': 250,\n",
       "     '/StemV': 58,\n",
       "     '/FontBBox': [-550, -240, 1204, 765],\n",
       "     '/FontFile2': {'/Filter': '/FlateDecode', '/Length1': 24544}},\n",
       "    '/FirstChar': 32,\n",
       "    '/LastChar': 121,\n",
       "    '/Widths': [260,\n",
       "     0,\n",
       "     401,\n",
       "     0,\n",
       "     0,\n",
       "     0,\n",
       "     0,\n",
       "     221,\n",
       "     296,\n",
       "     296,\n",
       "     0,\n",
       "     0,\n",
       "     245,\n",
       "     322,\n",
       "     266,\n",
       "     0,\n",
       "     572,\n",
       "     572,\n",
       "     572,\n",
       "     572,\n",
       "     572,\n",
       "     572,\n",
       "     572,\n",
       "     0,\n",
       "     0,\n",
       "     572,\n",
       "     0,\n",
       "     0,\n",
       "     0,\n",
       "     0,\n",
       "     0,\n",
       "     0,\n",
       "     0,\n",
       "     633,\n",
       "     648,\n",
       "     631,\n",
       "     729,\n",
       "     556,\n",
       "     516,\n",
       "     728,\n",
       "     738,\n",
       "     279,\n",
       "     0,\n",
       "     0,\n",
       "     519,\n",
       "     903,\n",
       "     754,\n",
       "     779,\n",
       "     602,\n",
       "     779,\n",
       "     618,\n",
       "     549,\n",
       "     553,\n",
       "     728,\n",
       "     595,\n",
       "     0,\n",
       "     0,\n",
       "     0,\n",
       "     0,\n",
       "     0,\n",
       "     0,\n",
       "     0,\n",
       "     0,\n",
       "     0,\n",
       "     0,\n",
       "     556,\n",
       "     613,\n",
       "     476,\n",
       "     613,\n",
       "     561,\n",
       "     339,\n",
       "     548,\n",
       "     614,\n",
       "     253,\n",
       "     253,\n",
       "     525,\n",
       "     253,\n",
       "     930,\n",
       "     614,\n",
       "     604,\n",
       "     613,\n",
       "     613,\n",
       "     408,\n",
       "     477,\n",
       "     353,\n",
       "     614,\n",
       "     501,\n",
       "     778,\n",
       "     524,\n",
       "     504]}},\n",
       "  '/ProcSet': ['/PDF', '/Text', '/ImageB', '/ImageC', '/ImageI']},\n",
       " '/MediaBox': [0, 0, 595.32, 841.92],\n",
       " '/Contents': {'/Filter': '/FlateDecode'},\n",
       " '/Group': {'/Type': '/Group', '/S': '/Transparency', '/CS': '/DeviceRGB'},\n",
       " '/Tabs': '/S',\n",
       " '/StructParents': 1}"
      ]
     },
     "execution_count": 6,
     "metadata": {},
     "output_type": "execute_result"
    }
   ],
   "source": [
    "pag_dois"
   ]
  },
  {
   "cell_type": "code",
   "execution_count": 7,
   "metadata": {},
   "outputs": [
    {
     "data": {
      "text/plain": [
       "'Lorem ipsum dolor sit amet, consectetur adipiscing elit. Morbi vel quam ipsum. Aenean \\nvitae magna risus. Proin dictum enim sed convallis maximus. Quisque eu condimentum \\nerat. Fusce euismod accumsan quam, molestie hendrerit tortor placerat quis. Aenean \\ndictum sit amet purus eget dapibus. Nunc ornare nisi tincidunt mi rutrum congue ut \\nullamcorper ligula. Suspendisse gravida, mi sed viverra cursus, arcu urna condimentum \\nest, et dapibus enim dolor nec elit. Integer pellentesque magna in risus dignissim, sed \\nvarius velit commodo. Phasellus at condimentum nulla, in tincidunt nisl. In non \\nmalesuada ligula.  \\nMauris auctor tellus vel sem volutpat, sed malesuada dolor vestibulum. Donec vel \\nvolutpat arcu. Praesent ex tellus, tristique sed velit et, pharetra porta mi. Praesent sed \\nfelis lobortis eros pretium gravida. Nunc non blandit nulla. Ut a arcu nisl. Aenean erat \\naugue, vulputate eget tellus sed, suscipit tristique lectus. Duis vestibulum consequat mi \\nid ornare. Cras vestibulum odio in vehicula hendrerit.  \\nInteger condimentum a sapien eget faucibus. Proin semper scelerisque nibh et mattis. \\nProin tincidunt varius varius. Integer ut quam eget elit tincidunt pretium nec id leo. \\nSuspendisse non ligula ut elit fringilla mollis. Suspendisse et tristique leo. Sed porta nisi \\nid nisi cursus, id ultricies velit sagittis. Sed non egestas orci. Fusce non leo vel est varius \\neuismod. Integer placerat elit sed volutpat faucibus. Proin pulvinar vitae odio vel \\ntempus. Nunc convallis placerat dolor, ac tristique elit hendrerit vel. Curabitur pulvinar \\nporta nibh in lobortis.  \\nSed fringilla eros mi, at imperdiet felis interdum interdum. Vivamus laoreet a justo quis \\nviverra. Maecenas aliquam, massa ultrices porttitor lobortis, dui dui efficitur nulla, quis \\nornare risus est sed quam. Cras vitae ipsum dolor. Vestibulum mattis fring illa nibh in \\nrutrum. Pellentesque justo metus, ornare eu posuere sit amet, tempor tempus dolor. \\nDonec in magna nec mi mollis elementum. Etiam gravida rutrum purus quis auctor. \\nFusce vitae arcu lectus. Integer et ornare orci, quis commodo libero. Nullam sag ittis sem \\nnec massa mollis venenatis in sit amet ante. Aliquam non volutpat libero. Quisque \\nlacinia feugiat auctor. Nulla vehicula eleifend libero vel lacinia. Sed congue justo ut \\nposuere suscipit.  \\nProin imperdiet sed lorem sed euismod. Orci varius natoque penatibus et magnis dis \\nparturient montes, nascetur ridiculus mus. Donec ut tellus vehicula, maximus sem eget, \\nfermentum metus. Aenean venenatis lobortis nisi a vehicula. Mauris convallis, velit eg et \\naliquam scelerisque, mauris ligula rhoncus nunc, in posuere nulla arcu vitae urna. Ut at \\ntellus ut justo tempus vestibulum. Phasellus vel magna at sem auctor tincidunt. Ut \\nsuscipit risus tempus, lacinia felis eu, finibus sapien.  \\nPellentesque suscipit pharetra luctus. Aenean in dui quis ipsum varius tristique. \\nPraesent nec ante eu erat fermentum hendrerit sed id urna. Quisque ullamcorper \\nporttitor quam, at rutrum leo volutpat quis. Curabitur nibh diam, porta non ipsum et, \\nlobortis placerat lectus. Interdum et malesuada fames ac ante ipsum primis in faucibus. \\nSed at consectetur velit. Suspendisse sed massa eu leo aliquet cursus nec eget diam. \\nAliquam nec orci id mi vulputate scelerisque sed vitae odio.  \\nVestibulum quis sapien id lorem dapibus molestie eu eu libero. Mauris turpis ex, varius \\nin accumsan id, scelerisque a ipsum. Cras interdum scelerisque molestie. Maecenas in \\nposuere neque. Ut nunc enim, facilisis sit amet ultrices vel, tristique et lacus. Praesent '"
      ]
     },
     "execution_count": 7,
     "metadata": {},
     "output_type": "execute_result"
    }
   ],
   "source": [
    "pag_dois_texto = pag_dois.extract_text()\n",
    "pag_dois_texto"
   ]
  },
  {
   "cell_type": "code",
   "execution_count": 8,
   "metadata": {},
   "outputs": [],
   "source": [
    "file.close()"
   ]
  }
 ],
 "metadata": {
  "kernelspec": {
   "display_name": "aula-nlp",
   "language": "python",
   "name": "python3"
  },
  "language_info": {
   "codemirror_mode": {
    "name": "ipython",
    "version": 3
   },
   "file_extension": ".py",
   "mimetype": "text/x-python",
   "name": "python",
   "nbconvert_exporter": "python",
   "pygments_lexer": "ipython3",
   "version": "3.10.13"
  }
 },
 "nbformat": 4,
 "nbformat_minor": 2
}
