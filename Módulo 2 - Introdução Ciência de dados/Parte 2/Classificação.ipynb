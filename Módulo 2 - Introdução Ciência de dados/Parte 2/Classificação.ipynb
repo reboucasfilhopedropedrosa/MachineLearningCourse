{
  "nbformat": 4,
  "nbformat_minor": 0,
  "metadata": {
    "colab": {
      "provenance": []
    },
    "kernelspec": {
      "name": "python3",
      "display_name": "Python 3"
    },
    "language_info": {
      "name": "python"
    }
  },
  "cells": [
    {
      "cell_type": "code",
      "execution_count": null,
      "metadata": {
        "id": "i7bi9DDb-zNq"
      },
      "outputs": [],
      "source": [
        "import pandas as pd\n",
        "import sklearn\n",
        "import numpy as np\n",
        "from sklearn.datasets import load_iris"
      ]
    },
    {
      "cell_type": "markdown",
      "source": [
        "## Carregando os dados e preparando os dados"
      ],
      "metadata": {
        "id": "sgl_Kv8TA4tg"
      }
    },
    {
      "cell_type": "code",
      "source": [
        "data = load_iris()\n",
        "dados = data.data\n",
        "target = data.target"
      ],
      "metadata": {
        "id": "sYvjzwDWA67N"
      },
      "execution_count": null,
      "outputs": []
    },
    {
      "cell_type": "code",
      "source": [
        "dataframe = pd.DataFrame(dados,columns= ['Sepal-Length','Sepal-Width','Petal-Length','Petal-Width'])\n",
        "dataframe['Especie'] = target\n",
        "dataframe"
      ],
      "metadata": {
        "colab": {
          "base_uri": "https://localhost:8080/",
          "height": 424
        },
        "id": "CXOjWoIAA-J3",
        "outputId": "340f732f-0a10-47b1-a86c-43d168d54b3f"
      },
      "execution_count": null,
      "outputs": [
        {
          "output_type": "execute_result",
          "data": {
            "text/plain": [
              "     Sepal-Length  Sepal-Width  Petal-Length  Petal-Width  Especie\n",
              "0             5.1          3.5           1.4          0.2        0\n",
              "1             4.9          3.0           1.4          0.2        0\n",
              "2             4.7          3.2           1.3          0.2        0\n",
              "3             4.6          3.1           1.5          0.2        0\n",
              "4             5.0          3.6           1.4          0.2        0\n",
              "..            ...          ...           ...          ...      ...\n",
              "145           6.7          3.0           5.2          2.3        2\n",
              "146           6.3          2.5           5.0          1.9        2\n",
              "147           6.5          3.0           5.2          2.0        2\n",
              "148           6.2          3.4           5.4          2.3        2\n",
              "149           5.9          3.0           5.1          1.8        2\n",
              "\n",
              "[150 rows x 5 columns]"
            ],
            "text/html": [
              "\n",
              "  <div id=\"df-3f942078-5077-432e-a095-c4821835aa97\" class=\"colab-df-container\">\n",
              "    <div>\n",
              "<style scoped>\n",
              "    .dataframe tbody tr th:only-of-type {\n",
              "        vertical-align: middle;\n",
              "    }\n",
              "\n",
              "    .dataframe tbody tr th {\n",
              "        vertical-align: top;\n",
              "    }\n",
              "\n",
              "    .dataframe thead th {\n",
              "        text-align: right;\n",
              "    }\n",
              "</style>\n",
              "<table border=\"1\" class=\"dataframe\">\n",
              "  <thead>\n",
              "    <tr style=\"text-align: right;\">\n",
              "      <th></th>\n",
              "      <th>Sepal-Length</th>\n",
              "      <th>Sepal-Width</th>\n",
              "      <th>Petal-Length</th>\n",
              "      <th>Petal-Width</th>\n",
              "      <th>Especie</th>\n",
              "    </tr>\n",
              "  </thead>\n",
              "  <tbody>\n",
              "    <tr>\n",
              "      <th>0</th>\n",
              "      <td>5.1</td>\n",
              "      <td>3.5</td>\n",
              "      <td>1.4</td>\n",
              "      <td>0.2</td>\n",
              "      <td>0</td>\n",
              "    </tr>\n",
              "    <tr>\n",
              "      <th>1</th>\n",
              "      <td>4.9</td>\n",
              "      <td>3.0</td>\n",
              "      <td>1.4</td>\n",
              "      <td>0.2</td>\n",
              "      <td>0</td>\n",
              "    </tr>\n",
              "    <tr>\n",
              "      <th>2</th>\n",
              "      <td>4.7</td>\n",
              "      <td>3.2</td>\n",
              "      <td>1.3</td>\n",
              "      <td>0.2</td>\n",
              "      <td>0</td>\n",
              "    </tr>\n",
              "    <tr>\n",
              "      <th>3</th>\n",
              "      <td>4.6</td>\n",
              "      <td>3.1</td>\n",
              "      <td>1.5</td>\n",
              "      <td>0.2</td>\n",
              "      <td>0</td>\n",
              "    </tr>\n",
              "    <tr>\n",
              "      <th>4</th>\n",
              "      <td>5.0</td>\n",
              "      <td>3.6</td>\n",
              "      <td>1.4</td>\n",
              "      <td>0.2</td>\n",
              "      <td>0</td>\n",
              "    </tr>\n",
              "    <tr>\n",
              "      <th>...</th>\n",
              "      <td>...</td>\n",
              "      <td>...</td>\n",
              "      <td>...</td>\n",
              "      <td>...</td>\n",
              "      <td>...</td>\n",
              "    </tr>\n",
              "    <tr>\n",
              "      <th>145</th>\n",
              "      <td>6.7</td>\n",
              "      <td>3.0</td>\n",
              "      <td>5.2</td>\n",
              "      <td>2.3</td>\n",
              "      <td>2</td>\n",
              "    </tr>\n",
              "    <tr>\n",
              "      <th>146</th>\n",
              "      <td>6.3</td>\n",
              "      <td>2.5</td>\n",
              "      <td>5.0</td>\n",
              "      <td>1.9</td>\n",
              "      <td>2</td>\n",
              "    </tr>\n",
              "    <tr>\n",
              "      <th>147</th>\n",
              "      <td>6.5</td>\n",
              "      <td>3.0</td>\n",
              "      <td>5.2</td>\n",
              "      <td>2.0</td>\n",
              "      <td>2</td>\n",
              "    </tr>\n",
              "    <tr>\n",
              "      <th>148</th>\n",
              "      <td>6.2</td>\n",
              "      <td>3.4</td>\n",
              "      <td>5.4</td>\n",
              "      <td>2.3</td>\n",
              "      <td>2</td>\n",
              "    </tr>\n",
              "    <tr>\n",
              "      <th>149</th>\n",
              "      <td>5.9</td>\n",
              "      <td>3.0</td>\n",
              "      <td>5.1</td>\n",
              "      <td>1.8</td>\n",
              "      <td>2</td>\n",
              "    </tr>\n",
              "  </tbody>\n",
              "</table>\n",
              "<p>150 rows × 5 columns</p>\n",
              "</div>\n",
              "    <div class=\"colab-df-buttons\">\n",
              "\n",
              "  <div class=\"colab-df-container\">\n",
              "    <button class=\"colab-df-convert\" onclick=\"convertToInteractive('df-3f942078-5077-432e-a095-c4821835aa97')\"\n",
              "            title=\"Convert this dataframe to an interactive table.\"\n",
              "            style=\"display:none;\">\n",
              "\n",
              "  <svg xmlns=\"http://www.w3.org/2000/svg\" height=\"24px\" viewBox=\"0 -960 960 960\">\n",
              "    <path d=\"M120-120v-720h720v720H120Zm60-500h600v-160H180v160Zm220 220h160v-160H400v160Zm0 220h160v-160H400v160ZM180-400h160v-160H180v160Zm440 0h160v-160H620v160ZM180-180h160v-160H180v160Zm440 0h160v-160H620v160Z\"/>\n",
              "  </svg>\n",
              "    </button>\n",
              "\n",
              "  <style>\n",
              "    .colab-df-container {\n",
              "      display:flex;\n",
              "      gap: 12px;\n",
              "    }\n",
              "\n",
              "    .colab-df-convert {\n",
              "      background-color: #E8F0FE;\n",
              "      border: none;\n",
              "      border-radius: 50%;\n",
              "      cursor: pointer;\n",
              "      display: none;\n",
              "      fill: #1967D2;\n",
              "      height: 32px;\n",
              "      padding: 0 0 0 0;\n",
              "      width: 32px;\n",
              "    }\n",
              "\n",
              "    .colab-df-convert:hover {\n",
              "      background-color: #E2EBFA;\n",
              "      box-shadow: 0px 1px 2px rgba(60, 64, 67, 0.3), 0px 1px 3px 1px rgba(60, 64, 67, 0.15);\n",
              "      fill: #174EA6;\n",
              "    }\n",
              "\n",
              "    .colab-df-buttons div {\n",
              "      margin-bottom: 4px;\n",
              "    }\n",
              "\n",
              "    [theme=dark] .colab-df-convert {\n",
              "      background-color: #3B4455;\n",
              "      fill: #D2E3FC;\n",
              "    }\n",
              "\n",
              "    [theme=dark] .colab-df-convert:hover {\n",
              "      background-color: #434B5C;\n",
              "      box-shadow: 0px 1px 3px 1px rgba(0, 0, 0, 0.15);\n",
              "      filter: drop-shadow(0px 1px 2px rgba(0, 0, 0, 0.3));\n",
              "      fill: #FFFFFF;\n",
              "    }\n",
              "  </style>\n",
              "\n",
              "    <script>\n",
              "      const buttonEl =\n",
              "        document.querySelector('#df-3f942078-5077-432e-a095-c4821835aa97 button.colab-df-convert');\n",
              "      buttonEl.style.display =\n",
              "        google.colab.kernel.accessAllowed ? 'block' : 'none';\n",
              "\n",
              "      async function convertToInteractive(key) {\n",
              "        const element = document.querySelector('#df-3f942078-5077-432e-a095-c4821835aa97');\n",
              "        const dataTable =\n",
              "          await google.colab.kernel.invokeFunction('convertToInteractive',\n",
              "                                                    [key], {});\n",
              "        if (!dataTable) return;\n",
              "\n",
              "        const docLinkHtml = 'Like what you see? Visit the ' +\n",
              "          '<a target=\"_blank\" href=https://colab.research.google.com/notebooks/data_table.ipynb>data table notebook</a>'\n",
              "          + ' to learn more about interactive tables.';\n",
              "        element.innerHTML = '';\n",
              "        dataTable['output_type'] = 'display_data';\n",
              "        await google.colab.output.renderOutput(dataTable, element);\n",
              "        const docLink = document.createElement('div');\n",
              "        docLink.innerHTML = docLinkHtml;\n",
              "        element.appendChild(docLink);\n",
              "      }\n",
              "    </script>\n",
              "  </div>\n",
              "\n",
              "\n",
              "<div id=\"df-fbb28f5e-9aee-4baf-84ba-21368bbe224e\">\n",
              "  <button class=\"colab-df-quickchart\" onclick=\"quickchart('df-fbb28f5e-9aee-4baf-84ba-21368bbe224e')\"\n",
              "            title=\"Suggest charts.\"\n",
              "            style=\"display:none;\">\n",
              "\n",
              "<svg xmlns=\"http://www.w3.org/2000/svg\" height=\"24px\"viewBox=\"0 0 24 24\"\n",
              "     width=\"24px\">\n",
              "    <g>\n",
              "        <path d=\"M19 3H5c-1.1 0-2 .9-2 2v14c0 1.1.9 2 2 2h14c1.1 0 2-.9 2-2V5c0-1.1-.9-2-2-2zM9 17H7v-7h2v7zm4 0h-2V7h2v10zm4 0h-2v-4h2v4z\"/>\n",
              "    </g>\n",
              "</svg>\n",
              "  </button>\n",
              "\n",
              "<style>\n",
              "  .colab-df-quickchart {\n",
              "    background-color: #E8F0FE;\n",
              "    border: none;\n",
              "    border-radius: 50%;\n",
              "    cursor: pointer;\n",
              "    display: none;\n",
              "    fill: #1967D2;\n",
              "    height: 32px;\n",
              "    padding: 0 0 0 0;\n",
              "    width: 32px;\n",
              "  }\n",
              "\n",
              "  .colab-df-quickchart:hover {\n",
              "    background-color: #E2EBFA;\n",
              "    box-shadow: 0px 1px 2px rgba(60, 64, 67, 0.3), 0px 1px 3px 1px rgba(60, 64, 67, 0.15);\n",
              "    fill: #174EA6;\n",
              "  }\n",
              "\n",
              "  [theme=dark] .colab-df-quickchart {\n",
              "    background-color: #3B4455;\n",
              "    fill: #D2E3FC;\n",
              "  }\n",
              "\n",
              "  [theme=dark] .colab-df-quickchart:hover {\n",
              "    background-color: #434B5C;\n",
              "    box-shadow: 0px 1px 3px 1px rgba(0, 0, 0, 0.15);\n",
              "    filter: drop-shadow(0px 1px 2px rgba(0, 0, 0, 0.3));\n",
              "    fill: #FFFFFF;\n",
              "  }\n",
              "</style>\n",
              "\n",
              "  <script>\n",
              "    async function quickchart(key) {\n",
              "      const charts = await google.colab.kernel.invokeFunction(\n",
              "          'suggestCharts', [key], {});\n",
              "    }\n",
              "    (() => {\n",
              "      let quickchartButtonEl =\n",
              "        document.querySelector('#df-fbb28f5e-9aee-4baf-84ba-21368bbe224e button');\n",
              "      quickchartButtonEl.style.display =\n",
              "        google.colab.kernel.accessAllowed ? 'block' : 'none';\n",
              "    })();\n",
              "  </script>\n",
              "</div>\n",
              "    </div>\n",
              "  </div>\n"
            ]
          },
          "metadata": {},
          "execution_count": 3
        }
      ]
    },
    {
      "cell_type": "code",
      "source": [
        "def enconde_species(specie):\n",
        "  if specie == 0 :\n",
        "    return 'Setosa'\n",
        "  elif specie == 1:\n",
        "    return 'Versicolor'\n",
        "  elif specie == 2:\n",
        "    return 'Virginica'\n",
        "\n",
        "dataframe.Especie = dataframe.Especie.apply(enconde_species)"
      ],
      "metadata": {
        "id": "yQ_s2QEdCE6o"
      },
      "execution_count": null,
      "outputs": []
    },
    {
      "cell_type": "code",
      "source": [
        "dataframe.describe()"
      ],
      "metadata": {
        "colab": {
          "base_uri": "https://localhost:8080/",
          "height": 300
        },
        "id": "nRb0645aBA-z",
        "outputId": "6df58dbd-eb68-4d3c-b202-79c16abe1d5e"
      },
      "execution_count": null,
      "outputs": [
        {
          "output_type": "execute_result",
          "data": {
            "text/plain": [
              "       Sepal-Length  Sepal-Width  Petal-Length  Petal-Width\n",
              "count    150.000000   150.000000    150.000000   150.000000\n",
              "mean       5.843333     3.057333      3.758000     1.199333\n",
              "std        0.828066     0.435866      1.765298     0.762238\n",
              "min        4.300000     2.000000      1.000000     0.100000\n",
              "25%        5.100000     2.800000      1.600000     0.300000\n",
              "50%        5.800000     3.000000      4.350000     1.300000\n",
              "75%        6.400000     3.300000      5.100000     1.800000\n",
              "max        7.900000     4.400000      6.900000     2.500000"
            ],
            "text/html": [
              "\n",
              "  <div id=\"df-2e0b7882-5731-42a2-be18-3486fbb0e6ac\" class=\"colab-df-container\">\n",
              "    <div>\n",
              "<style scoped>\n",
              "    .dataframe tbody tr th:only-of-type {\n",
              "        vertical-align: middle;\n",
              "    }\n",
              "\n",
              "    .dataframe tbody tr th {\n",
              "        vertical-align: top;\n",
              "    }\n",
              "\n",
              "    .dataframe thead th {\n",
              "        text-align: right;\n",
              "    }\n",
              "</style>\n",
              "<table border=\"1\" class=\"dataframe\">\n",
              "  <thead>\n",
              "    <tr style=\"text-align: right;\">\n",
              "      <th></th>\n",
              "      <th>Sepal-Length</th>\n",
              "      <th>Sepal-Width</th>\n",
              "      <th>Petal-Length</th>\n",
              "      <th>Petal-Width</th>\n",
              "    </tr>\n",
              "  </thead>\n",
              "  <tbody>\n",
              "    <tr>\n",
              "      <th>count</th>\n",
              "      <td>150.000000</td>\n",
              "      <td>150.000000</td>\n",
              "      <td>150.000000</td>\n",
              "      <td>150.000000</td>\n",
              "    </tr>\n",
              "    <tr>\n",
              "      <th>mean</th>\n",
              "      <td>5.843333</td>\n",
              "      <td>3.057333</td>\n",
              "      <td>3.758000</td>\n",
              "      <td>1.199333</td>\n",
              "    </tr>\n",
              "    <tr>\n",
              "      <th>std</th>\n",
              "      <td>0.828066</td>\n",
              "      <td>0.435866</td>\n",
              "      <td>1.765298</td>\n",
              "      <td>0.762238</td>\n",
              "    </tr>\n",
              "    <tr>\n",
              "      <th>min</th>\n",
              "      <td>4.300000</td>\n",
              "      <td>2.000000</td>\n",
              "      <td>1.000000</td>\n",
              "      <td>0.100000</td>\n",
              "    </tr>\n",
              "    <tr>\n",
              "      <th>25%</th>\n",
              "      <td>5.100000</td>\n",
              "      <td>2.800000</td>\n",
              "      <td>1.600000</td>\n",
              "      <td>0.300000</td>\n",
              "    </tr>\n",
              "    <tr>\n",
              "      <th>50%</th>\n",
              "      <td>5.800000</td>\n",
              "      <td>3.000000</td>\n",
              "      <td>4.350000</td>\n",
              "      <td>1.300000</td>\n",
              "    </tr>\n",
              "    <tr>\n",
              "      <th>75%</th>\n",
              "      <td>6.400000</td>\n",
              "      <td>3.300000</td>\n",
              "      <td>5.100000</td>\n",
              "      <td>1.800000</td>\n",
              "    </tr>\n",
              "    <tr>\n",
              "      <th>max</th>\n",
              "      <td>7.900000</td>\n",
              "      <td>4.400000</td>\n",
              "      <td>6.900000</td>\n",
              "      <td>2.500000</td>\n",
              "    </tr>\n",
              "  </tbody>\n",
              "</table>\n",
              "</div>\n",
              "    <div class=\"colab-df-buttons\">\n",
              "\n",
              "  <div class=\"colab-df-container\">\n",
              "    <button class=\"colab-df-convert\" onclick=\"convertToInteractive('df-2e0b7882-5731-42a2-be18-3486fbb0e6ac')\"\n",
              "            title=\"Convert this dataframe to an interactive table.\"\n",
              "            style=\"display:none;\">\n",
              "\n",
              "  <svg xmlns=\"http://www.w3.org/2000/svg\" height=\"24px\" viewBox=\"0 -960 960 960\">\n",
              "    <path d=\"M120-120v-720h720v720H120Zm60-500h600v-160H180v160Zm220 220h160v-160H400v160Zm0 220h160v-160H400v160ZM180-400h160v-160H180v160Zm440 0h160v-160H620v160ZM180-180h160v-160H180v160Zm440 0h160v-160H620v160Z\"/>\n",
              "  </svg>\n",
              "    </button>\n",
              "\n",
              "  <style>\n",
              "    .colab-df-container {\n",
              "      display:flex;\n",
              "      gap: 12px;\n",
              "    }\n",
              "\n",
              "    .colab-df-convert {\n",
              "      background-color: #E8F0FE;\n",
              "      border: none;\n",
              "      border-radius: 50%;\n",
              "      cursor: pointer;\n",
              "      display: none;\n",
              "      fill: #1967D2;\n",
              "      height: 32px;\n",
              "      padding: 0 0 0 0;\n",
              "      width: 32px;\n",
              "    }\n",
              "\n",
              "    .colab-df-convert:hover {\n",
              "      background-color: #E2EBFA;\n",
              "      box-shadow: 0px 1px 2px rgba(60, 64, 67, 0.3), 0px 1px 3px 1px rgba(60, 64, 67, 0.15);\n",
              "      fill: #174EA6;\n",
              "    }\n",
              "\n",
              "    .colab-df-buttons div {\n",
              "      margin-bottom: 4px;\n",
              "    }\n",
              "\n",
              "    [theme=dark] .colab-df-convert {\n",
              "      background-color: #3B4455;\n",
              "      fill: #D2E3FC;\n",
              "    }\n",
              "\n",
              "    [theme=dark] .colab-df-convert:hover {\n",
              "      background-color: #434B5C;\n",
              "      box-shadow: 0px 1px 3px 1px rgba(0, 0, 0, 0.15);\n",
              "      filter: drop-shadow(0px 1px 2px rgba(0, 0, 0, 0.3));\n",
              "      fill: #FFFFFF;\n",
              "    }\n",
              "  </style>\n",
              "\n",
              "    <script>\n",
              "      const buttonEl =\n",
              "        document.querySelector('#df-2e0b7882-5731-42a2-be18-3486fbb0e6ac button.colab-df-convert');\n",
              "      buttonEl.style.display =\n",
              "        google.colab.kernel.accessAllowed ? 'block' : 'none';\n",
              "\n",
              "      async function convertToInteractive(key) {\n",
              "        const element = document.querySelector('#df-2e0b7882-5731-42a2-be18-3486fbb0e6ac');\n",
              "        const dataTable =\n",
              "          await google.colab.kernel.invokeFunction('convertToInteractive',\n",
              "                                                    [key], {});\n",
              "        if (!dataTable) return;\n",
              "\n",
              "        const docLinkHtml = 'Like what you see? Visit the ' +\n",
              "          '<a target=\"_blank\" href=https://colab.research.google.com/notebooks/data_table.ipynb>data table notebook</a>'\n",
              "          + ' to learn more about interactive tables.';\n",
              "        element.innerHTML = '';\n",
              "        dataTable['output_type'] = 'display_data';\n",
              "        await google.colab.output.renderOutput(dataTable, element);\n",
              "        const docLink = document.createElement('div');\n",
              "        docLink.innerHTML = docLinkHtml;\n",
              "        element.appendChild(docLink);\n",
              "      }\n",
              "    </script>\n",
              "  </div>\n",
              "\n",
              "\n",
              "<div id=\"df-55397fa0-38a1-4b34-9ad3-d28c69c01b6b\">\n",
              "  <button class=\"colab-df-quickchart\" onclick=\"quickchart('df-55397fa0-38a1-4b34-9ad3-d28c69c01b6b')\"\n",
              "            title=\"Suggest charts.\"\n",
              "            style=\"display:none;\">\n",
              "\n",
              "<svg xmlns=\"http://www.w3.org/2000/svg\" height=\"24px\"viewBox=\"0 0 24 24\"\n",
              "     width=\"24px\">\n",
              "    <g>\n",
              "        <path d=\"M19 3H5c-1.1 0-2 .9-2 2v14c0 1.1.9 2 2 2h14c1.1 0 2-.9 2-2V5c0-1.1-.9-2-2-2zM9 17H7v-7h2v7zm4 0h-2V7h2v10zm4 0h-2v-4h2v4z\"/>\n",
              "    </g>\n",
              "</svg>\n",
              "  </button>\n",
              "\n",
              "<style>\n",
              "  .colab-df-quickchart {\n",
              "    background-color: #E8F0FE;\n",
              "    border: none;\n",
              "    border-radius: 50%;\n",
              "    cursor: pointer;\n",
              "    display: none;\n",
              "    fill: #1967D2;\n",
              "    height: 32px;\n",
              "    padding: 0 0 0 0;\n",
              "    width: 32px;\n",
              "  }\n",
              "\n",
              "  .colab-df-quickchart:hover {\n",
              "    background-color: #E2EBFA;\n",
              "    box-shadow: 0px 1px 2px rgba(60, 64, 67, 0.3), 0px 1px 3px 1px rgba(60, 64, 67, 0.15);\n",
              "    fill: #174EA6;\n",
              "  }\n",
              "\n",
              "  [theme=dark] .colab-df-quickchart {\n",
              "    background-color: #3B4455;\n",
              "    fill: #D2E3FC;\n",
              "  }\n",
              "\n",
              "  [theme=dark] .colab-df-quickchart:hover {\n",
              "    background-color: #434B5C;\n",
              "    box-shadow: 0px 1px 3px 1px rgba(0, 0, 0, 0.15);\n",
              "    filter: drop-shadow(0px 1px 2px rgba(0, 0, 0, 0.3));\n",
              "    fill: #FFFFFF;\n",
              "  }\n",
              "</style>\n",
              "\n",
              "  <script>\n",
              "    async function quickchart(key) {\n",
              "      const charts = await google.colab.kernel.invokeFunction(\n",
              "          'suggestCharts', [key], {});\n",
              "    }\n",
              "    (() => {\n",
              "      let quickchartButtonEl =\n",
              "        document.querySelector('#df-55397fa0-38a1-4b34-9ad3-d28c69c01b6b button');\n",
              "      quickchartButtonEl.style.display =\n",
              "        google.colab.kernel.accessAllowed ? 'block' : 'none';\n",
              "    })();\n",
              "  </script>\n",
              "</div>\n",
              "    </div>\n",
              "  </div>\n"
            ]
          },
          "metadata": {},
          "execution_count": 5
        }
      ]
    },
    {
      "cell_type": "markdown",
      "source": [
        "# Pré processamento"
      ],
      "metadata": {
        "id": "nE6RQtExBDmy"
      }
    },
    {
      "cell_type": "markdown",
      "source": [
        "Existem outliers?"
      ],
      "metadata": {
        "id": "YiN8OsneBG2V"
      }
    },
    {
      "cell_type": "code",
      "source": [
        "import seaborn as sns\n",
        "import matplotlib.pyplot as plt\n",
        "plt.figure(figsize=(10, 6))\n",
        "sns.boxplot(data=dataframe[['Sepal-Length',\t'Sepal-Width',\t'Petal-Length',\t'Petal-Width']])\n",
        "plt.title('Boxplot das Colunas do Dataset Iris')\n",
        "plt.xlabel('Características')\n",
        "plt.ylabel('Valores')\n",
        "plt.xticks(rotation=45)\n",
        "plt.show()"
      ],
      "metadata": {
        "colab": {
          "base_uri": "https://localhost:8080/",
          "height": 625
        },
        "id": "bO3Qy0CxBFd3",
        "outputId": "bab452d0-1f0b-49c3-a3b5-a4f0446e550c"
      },
      "execution_count": null,
      "outputs": [
        {
          "output_type": "display_data",
          "data": {
            "text/plain": [
              "<Figure size 1000x600 with 1 Axes>"
            ],
            "image/png": "[encoded data removed]"
          },
          "metadata": {}
        }
      ]
    },
    {
      "cell_type": "code",
      "source": [
        "Q1 = dataframe[['Sepal-Length', 'Sepal-Width', 'Petal-Length', 'Petal-Width']].quantile(0.25)\n",
        "Q3 = dataframe[['Sepal-Length', 'Sepal-Width', 'Petal-Length', 'Petal-Width']].quantile(0.75)\n",
        "IQR = Q3 - Q1\n",
        "\n",
        "lower_bound = Q1 - 1.5 * IQR\n",
        "upper_bound = Q3 + 1.5 * IQR\n",
        "\n",
        "for col in ['Sepal-Length', 'Sepal-Width', 'Petal-Length', 'Petal-Width']:\n",
        "    is_outlier = (dataframe[col] < lower_bound[col]) | (dataframe[col] > upper_bound[col])\n",
        "    dataframe.loc[is_outlier, col] = dataframe[col].mean()\n",
        "\n",
        "\n",
        "plt.figure(figsize=(10, 6))\n",
        "sns.boxplot(data=dataframe[['Sepal-Length', 'Sepal-Width', 'Petal-Length', 'Petal-Width']])\n",
        "plt.title('Boxplot das Colunas do Dataset Iris (outliers substituídos pela média)')\n",
        "plt.xlabel('Características')\n",
        "plt.ylabel('Valores')\n",
        "plt.xticks(rotation=45)\n",
        "plt.show()"
      ],
      "metadata": {
        "colab": {
          "base_uri": "https://localhost:8080/",
          "height": 625
        },
        "id": "FfzhlHHRBshg",
        "outputId": "4f4136ca-1d5c-4775-82ff-1f5136f35429"
      },
      "execution_count": null,
      "outputs": [
        {
          "output_type": "display_data",
          "data": {
            "text/plain": [
              "<Figure size 1000x600 with 1 Axes>"
            ],
            "image/png": "[encoded data removed]"
          },
          "metadata": {}
        }
      ]
    },
    {
      "cell_type": "markdown",
      "source": [
        "Transformando colunas categóricas em numéricas"
      ],
      "metadata": {
        "id": "8os4IxAiCHXv"
      }
    },
    {
      "cell_type": "markdown",
      "source": [
        "Nosso dataset para treinamento não pode ter strings, é necessário transformar nossa colunas de especie em valores numericos. Vamos aplicar uma técnica que é conhecida como label enconde."
      ],
      "metadata": {
        "id": "8OxQ89FBCqg4"
      }
    },
    {
      "cell_type": "code",
      "source": [
        "def label_encoder(specie):\n",
        "  if specie == 'Setosa':\n",
        "    return 0\n",
        "  elif specie == 'Versicolor':\n",
        "    return 1\n",
        "  elif specie == 'Virginica':\n",
        "    return 2\n",
        "\n",
        "dataframe.Especie = dataframe.Especie.apply(label_encoder)"
      ],
      "metadata": {
        "id": "rzQVi75sCNzR"
      },
      "execution_count": null,
      "outputs": []
    },
    {
      "cell_type": "code",
      "source": [
        "dataframe.tail()"
      ],
      "metadata": {
        "colab": {
          "base_uri": "https://localhost:8080/",
          "height": 206
        },
        "id": "kdO5j1alC4L3",
        "outputId": "d4b2b2ae-5d72-4ff7-b125-e3b36c9f656f"
      },
      "execution_count": null,
      "outputs": [
        {
          "output_type": "execute_result",
          "data": {
            "text/plain": [
              "     Sepal-Length  Sepal-Width  Petal-Length  Petal-Width  Especie\n",
              "145           6.7          3.0           5.2          2.3        2\n",
              "146           6.3          2.5           5.0          1.9        2\n",
              "147           6.5          3.0           5.2          2.0        2\n",
              "148           6.2          3.4           5.4          2.3        2\n",
              "149           5.9          3.0           5.1          1.8        2"
            ],
            "text/html": [
              "\n",
              "  <div id=\"df-cebf9910-ebb0-4d27-8c70-829f5636cf50\" class=\"colab-df-container\">\n",
              "    <div>\n",
              "<style scoped>\n",
              "    .dataframe tbody tr th:only-of-type {\n",
              "        vertical-align: middle;\n",
              "    }\n",
              "\n",
              "    .dataframe tbody tr th {\n",
              "        vertical-align: top;\n",
              "    }\n",
              "\n",
              "    .dataframe thead th {\n",
              "        text-align: right;\n",
              "    }\n",
              "</style>\n",
              "<table border=\"1\" class=\"dataframe\">\n",
              "  <thead>\n",
              "    <tr style=\"text-align: right;\">\n",
              "      <th></th>\n",
              "      <th>Sepal-Length</th>\n",
              "      <th>Sepal-Width</th>\n",
              "      <th>Petal-Length</th>\n",
              "      <th>Petal-Width</th>\n",
              "      <th>Especie</th>\n",
              "    </tr>\n",
              "  </thead>\n",
              "  <tbody>\n",
              "    <tr>\n",
              "      <th>145</th>\n",
              "      <td>6.7</td>\n",
              "      <td>3.0</td>\n",
              "      <td>5.2</td>\n",
              "      <td>2.3</td>\n",
              "      <td>2</td>\n",
              "    </tr>\n",
              "    <tr>\n",
              "      <th>146</th>\n",
              "      <td>6.3</td>\n",
              "      <td>2.5</td>\n",
              "      <td>5.0</td>\n",
              "      <td>1.9</td>\n",
              "      <td>2</td>\n",
              "    </tr>\n",
              "    <tr>\n",
              "      <th>147</th>\n",
              "      <td>6.5</td>\n",
              "      <td>3.0</td>\n",
              "      <td>5.2</td>\n",
              "      <td>2.0</td>\n",
              "      <td>2</td>\n",
              "    </tr>\n",
              "    <tr>\n",
              "      <th>148</th>\n",
              "      <td>6.2</td>\n",
              "      <td>3.4</td>\n",
              "      <td>5.4</td>\n",
              "      <td>2.3</td>\n",
              "      <td>2</td>\n",
              "    </tr>\n",
              "    <tr>\n",
              "      <th>149</th>\n",
              "      <td>5.9</td>\n",
              "      <td>3.0</td>\n",
              "      <td>5.1</td>\n",
              "      <td>1.8</td>\n",
              "      <td>2</td>\n",
              "    </tr>\n",
              "  </tbody>\n",
              "</table>\n",
              "</div>\n",
              "    <div class=\"colab-df-buttons\">\n",
              "\n",
              "  <div class=\"colab-df-container\">\n",
              "    <button class=\"colab-df-convert\" onclick=\"convertToInteractive('df-cebf9910-ebb0-4d27-8c70-829f5636cf50')\"\n",
              "            title=\"Convert this dataframe to an interactive table.\"\n",
              "            style=\"display:none;\">\n",
              "\n",
              "  <svg xmlns=\"http://www.w3.org/2000/svg\" height=\"24px\" viewBox=\"0 -960 960 960\">\n",
              "    <path d=\"M120-120v-720h720v720H120Zm60-500h600v-160H180v160Zm220 220h160v-160H400v160Zm0 220h160v-160H400v160ZM180-400h160v-160H180v160Zm440 0h160v-160H620v160ZM180-180h160v-160H180v160Zm440 0h160v-160H620v160Z\"/>\n",
              "  </svg>\n",
              "    </button>\n",
              "\n",
              "  <style>\n",
              "    .colab-df-container {\n",
              "      display:flex;\n",
              "      gap: 12px;\n",
              "    }\n",
              "\n",
              "    .colab-df-convert {\n",
              "      background-color: #E8F0FE;\n",
              "      border: none;\n",
              "      border-radius: 50%;\n",
              "      cursor: pointer;\n",
              "      display: none;\n",
              "      fill: #1967D2;\n",
              "      height: 32px;\n",
              "      padding: 0 0 0 0;\n",
              "      width: 32px;\n",
              "    }\n",
              "\n",
              "    .colab-df-convert:hover {\n",
              "      background-color: #E2EBFA;\n",
              "      box-shadow: 0px 1px 2px rgba(60, 64, 67, 0.3), 0px 1px 3px 1px rgba(60, 64, 67, 0.15);\n",
              "      fill: #174EA6;\n",
              "    }\n",
              "\n",
              "    .colab-df-buttons div {\n",
              "      margin-bottom: 4px;\n",
              "    }\n",
              "\n",
              "    [theme=dark] .colab-df-convert {\n",
              "      background-color: #3B4455;\n",
              "      fill: #D2E3FC;\n",
              "    }\n",
              "\n",
              "    [theme=dark] .colab-df-convert:hover {\n",
              "      background-color: #434B5C;\n",
              "      box-shadow: 0px 1px 3px 1px rgba(0, 0, 0, 0.15);\n",
              "      filter: drop-shadow(0px 1px 2px rgba(0, 0, 0, 0.3));\n",
              "      fill: #FFFFFF;\n",
              "    }\n",
              "  </style>\n",
              "\n",
              "    <script>\n",
              "      const buttonEl =\n",
              "        document.querySelector('#df-cebf9910-ebb0-4d27-8c70-829f5636cf50 button.colab-df-convert');\n",
              "      buttonEl.style.display =\n",
              "        google.colab.kernel.accessAllowed ? 'block' : 'none';\n",
              "\n",
              "      async function convertToInteractive(key) {\n",
              "        const element = document.querySelector('#df-cebf9910-ebb0-4d27-8c70-829f5636cf50');\n",
              "        const dataTable =\n",
              "          await google.colab.kernel.invokeFunction('convertToInteractive',\n",
              "                                                    [key], {});\n",
              "        if (!dataTable) return;\n",
              "\n",
              "        const docLinkHtml = 'Like what you see? Visit the ' +\n",
              "          '<a target=\"_blank\" href=https://colab.research.google.com/notebooks/data_table.ipynb>data table notebook</a>'\n",
              "          + ' to learn more about interactive tables.';\n",
              "        element.innerHTML = '';\n",
              "        dataTable['output_type'] = 'display_data';\n",
              "        await google.colab.output.renderOutput(dataTable, element);\n",
              "        const docLink = document.createElement('div');\n",
              "        docLink.innerHTML = docLinkHtml;\n",
              "        element.appendChild(docLink);\n",
              "      }\n",
              "    </script>\n",
              "  </div>\n",
              "\n",
              "\n",
              "<div id=\"df-8b5517d1-c207-4754-88ba-b96c97a767ed\">\n",
              "  <button class=\"colab-df-quickchart\" onclick=\"quickchart('df-8b5517d1-c207-4754-88ba-b96c97a767ed')\"\n",
              "            title=\"Suggest charts.\"\n",
              "            style=\"display:none;\">\n",
              "\n",
              "<svg xmlns=\"http://www.w3.org/2000/svg\" height=\"24px\"viewBox=\"0 0 24 24\"\n",
              "     width=\"24px\">\n",
              "    <g>\n",
              "        <path d=\"M19 3H5c-1.1 0-2 .9-2 2v14c0 1.1.9 2 2 2h14c1.1 0 2-.9 2-2V5c0-1.1-.9-2-2-2zM9 17H7v-7h2v7zm4 0h-2V7h2v10zm4 0h-2v-4h2v4z\"/>\n",
              "    </g>\n",
              "</svg>\n",
              "  </button>\n",
              "\n",
              "<style>\n",
              "  .colab-df-quickchart {\n",
              "    background-color: #E8F0FE;\n",
              "    border: none;\n",
              "    border-radius: 50%;\n",
              "    cursor: pointer;\n",
              "    display: none;\n",
              "    fill: #1967D2;\n",
              "    height: 32px;\n",
              "    padding: 0 0 0 0;\n",
              "    width: 32px;\n",
              "  }\n",
              "\n",
              "  .colab-df-quickchart:hover {\n",
              "    background-color: #E2EBFA;\n",
              "    box-shadow: 0px 1px 2px rgba(60, 64, 67, 0.3), 0px 1px 3px 1px rgba(60, 64, 67, 0.15);\n",
              "    fill: #174EA6;\n",
              "  }\n",
              "\n",
              "  [theme=dark] .colab-df-quickchart {\n",
              "    background-color: #3B4455;\n",
              "    fill: #D2E3FC;\n",
              "  }\n",
              "\n",
              "  [theme=dark] .colab-df-quickchart:hover {\n",
              "    background-color: #434B5C;\n",
              "    box-shadow: 0px 1px 3px 1px rgba(0, 0, 0, 0.15);\n",
              "    filter: drop-shadow(0px 1px 2px rgba(0, 0, 0, 0.3));\n",
              "    fill: #FFFFFF;\n",
              "  }\n",
              "</style>\n",
              "\n",
              "  <script>\n",
              "    async function quickchart(key) {\n",
              "      const charts = await google.colab.kernel.invokeFunction(\n",
              "          'suggestCharts', [key], {});\n",
              "    }\n",
              "    (() => {\n",
              "      let quickchartButtonEl =\n",
              "        document.querySelector('#df-8b5517d1-c207-4754-88ba-b96c97a767ed button');\n",
              "      quickchartButtonEl.style.display =\n",
              "        google.colab.kernel.accessAllowed ? 'block' : 'none';\n",
              "    })();\n",
              "  </script>\n",
              "</div>\n",
              "    </div>\n",
              "  </div>\n"
            ]
          },
          "metadata": {},
          "execution_count": 9
        }
      ]
    },
    {
      "cell_type": "markdown",
      "source": [
        "Outra técnica que devemos aplicar é escalonar nossos dados, algoritmos de inteligência artificial normalmente trabalham melhor com dados escalonados. Isso se deve ao fator de que colunas diferentes, com escalonamentos diferentes podem divergir de peso durante um treinamento."
      ],
      "metadata": {
        "id": "QQRaHe40DFrx"
      }
    },
    {
      "cell_type": "code",
      "source": [
        "def manual_min_max_scaler(column):\n",
        "    min_value = column.min()\n",
        "    max_value = column.max()\n",
        "    scaled_column = (column - min_value) / (max_value - min_value)\n",
        "    return scaled_column\n",
        "\n",
        "dataframe['Sepal-Length'] = manual_min_max_scaler(dataframe['Sepal-Length'])\n",
        "dataframe['Sepal-Width'] = manual_min_max_scaler(dataframe['Sepal-Width'])\n",
        "dataframe['Petal-Length'] = manual_min_max_scaler(dataframe['Petal-Length'])\n",
        "dataframe['Petal-Width'] = manual_min_max_scaler(dataframe['Petal-Width'])"
      ],
      "metadata": {
        "id": "qtPuaWAEDtIK"
      },
      "execution_count": null,
      "outputs": []
    },
    {
      "cell_type": "code",
      "source": [
        "dataframe"
      ],
      "metadata": {
        "colab": {
          "base_uri": "https://localhost:8080/",
          "height": 424
        },
        "id": "AhBkUpRoEGAh",
        "outputId": "b046324d-d136-414d-de16-cd654d6da841"
      },
      "execution_count": null,
      "outputs": [
        {
          "output_type": "execute_result",
          "data": {
            "text/plain": [
              "     Sepal-Length  Sepal-Width  Petal-Length  Petal-Width  Especie\n",
              "0        0.222222     0.722222      0.067797     0.041667        0\n",
              "1        0.166667     0.444444      0.067797     0.041667        0\n",
              "2        0.111111     0.555556      0.050847     0.041667        0\n",
              "3        0.083333     0.500000      0.084746     0.041667        0\n",
              "4        0.194444     0.777778      0.067797     0.041667        0\n",
              "..            ...          ...           ...          ...      ...\n",
              "145      0.666667     0.444444      0.711864     0.916667        2\n",
              "146      0.555556     0.166667      0.677966     0.750000        2\n",
              "147      0.611111     0.444444      0.711864     0.791667        2\n",
              "148      0.527778     0.666667      0.745763     0.916667        2\n",
              "149      0.444444     0.444444      0.694915     0.708333        2\n",
              "\n",
              "[150 rows x 5 columns]"
            ],
            "text/html": [
              "\n",
              "  <div id=\"df-eb3eb0de-77a8-428c-9887-1b28e96df068\" class=\"colab-df-container\">\n",
              "    <div>\n",
              "<style scoped>\n",
              "    .dataframe tbody tr th:only-of-type {\n",
              "        vertical-align: middle;\n",
              "    }\n",
              "\n",
              "    .dataframe tbody tr th {\n",
              "        vertical-align: top;\n",
              "    }\n",
              "\n",
              "    .dataframe thead th {\n",
              "        text-align: right;\n",
              "    }\n",
              "</style>\n",
              "<table border=\"1\" class=\"dataframe\">\n",
              "  <thead>\n",
              "    <tr style=\"text-align: right;\">\n",
              "      <th></th>\n",
              "      <th>Sepal-Length</th>\n",
              "      <th>Sepal-Width</th>\n",
              "      <th>Petal-Length</th>\n",
              "      <th>Petal-Width</th>\n",
              "      <th>Especie</th>\n",
              "    </tr>\n",
              "  </thead>\n",
              "  <tbody>\n",
              "    <tr>\n",
              "      <th>0</th>\n",
              "      <td>0.222222</td>\n",
              "      <td>0.722222</td>\n",
              "      <td>0.067797</td>\n",
              "      <td>0.041667</td>\n",
              "      <td>0</td>\n",
              "    </tr>\n",
              "    <tr>\n",
              "      <th>1</th>\n",
              "      <td>0.166667</td>\n",
              "      <td>0.444444</td>\n",
              "      <td>0.067797</td>\n",
              "      <td>0.041667</td>\n",
              "      <td>0</td>\n",
              "    </tr>\n",
              "    <tr>\n",
              "      <th>2</th>\n",
              "      <td>0.111111</td>\n",
              "      <td>0.555556</td>\n",
              "      <td>0.050847</td>\n",
              "      <td>0.041667</td>\n",
              "      <td>0</td>\n",
              "    </tr>\n",
              "    <tr>\n",
              "      <th>3</th>\n",
              "      <td>0.083333</td>\n",
              "      <td>0.500000</td>\n",
              "      <td>0.084746</td>\n",
              "      <td>0.041667</td>\n",
              "      <td>0</td>\n",
              "    </tr>\n",
              "    <tr>\n",
              "      <th>4</th>\n",
              "      <td>0.194444</td>\n",
              "      <td>0.777778</td>\n",
              "      <td>0.067797</td>\n",
              "      <td>0.041667</td>\n",
              "      <td>0</td>\n",
              "    </tr>\n",
              "    <tr>\n",
              "      <th>...</th>\n",
              "      <td>...</td>\n",
              "      <td>...</td>\n",
              "      <td>...</td>\n",
              "      <td>...</td>\n",
              "      <td>...</td>\n",
              "    </tr>\n",
              "    <tr>\n",
              "      <th>145</th>\n",
              "      <td>0.666667</td>\n",
              "      <td>0.444444</td>\n",
              "      <td>0.711864</td>\n",
              "      <td>0.916667</td>\n",
              "      <td>2</td>\n",
              "    </tr>\n",
              "    <tr>\n",
              "      <th>146</th>\n",
              "      <td>0.555556</td>\n",
              "      <td>0.166667</td>\n",
              "      <td>0.677966</td>\n",
              "      <td>0.750000</td>\n",
              "      <td>2</td>\n",
              "    </tr>\n",
              "    <tr>\n",
              "      <th>147</th>\n",
              "      <td>0.611111</td>\n",
              "      <td>0.444444</td>\n",
              "      <td>0.711864</td>\n",
              "      <td>0.791667</td>\n",
              "      <td>2</td>\n",
              "    </tr>\n",
              "    <tr>\n",
              "      <th>148</th>\n",
              "      <td>0.527778</td>\n",
              "      <td>0.666667</td>\n",
              "      <td>0.745763</td>\n",
              "      <td>0.916667</td>\n",
              "      <td>2</td>\n",
              "    </tr>\n",
              "    <tr>\n",
              "      <th>149</th>\n",
              "      <td>0.444444</td>\n",
              "      <td>0.444444</td>\n",
              "      <td>0.694915</td>\n",
              "      <td>0.708333</td>\n",
              "      <td>2</td>\n",
              "    </tr>\n",
              "  </tbody>\n",
              "</table>\n",
              "<p>150 rows × 5 columns</p>\n",
              "</div>\n",
              "    <div class=\"colab-df-buttons\">\n",
              "\n",
              "  <div class=\"colab-df-container\">\n",
              "    <button class=\"colab-df-convert\" onclick=\"convertToInteractive('df-eb3eb0de-77a8-428c-9887-1b28e96df068')\"\n",
              "            title=\"Convert this dataframe to an interactive table.\"\n",
              "            style=\"display:none;\">\n",
              "\n",
              "  <svg xmlns=\"http://www.w3.org/2000/svg\" height=\"24px\" viewBox=\"0 -960 960 960\">\n",
              "    <path d=\"M120-120v-720h720v720H120Zm60-500h600v-160H180v160Zm220 220h160v-160H400v160Zm0 220h160v-160H400v160ZM180-400h160v-160H180v160Zm440 0h160v-160H620v160ZM180-180h160v-160H180v160Zm440 0h160v-160H620v160Z\"/>\n",
              "  </svg>\n",
              "    </button>\n",
              "\n",
              "  <style>\n",
              "    .colab-df-container {\n",
              "      display:flex;\n",
              "      gap: 12px;\n",
              "    }\n",
              "\n",
              "    .colab-df-convert {\n",
              "      background-color: #E8F0FE;\n",
              "      border: none;\n",
              "      border-radius: 50%;\n",
              "      cursor: pointer;\n",
              "      display: none;\n",
              "      fill: #1967D2;\n",
              "      height: 32px;\n",
              "      padding: 0 0 0 0;\n",
              "      width: 32px;\n",
              "    }\n",
              "\n",
              "    .colab-df-convert:hover {\n",
              "      background-color: #E2EBFA;\n",
              "      box-shadow: 0px 1px 2px rgba(60, 64, 67, 0.3), 0px 1px 3px 1px rgba(60, 64, 67, 0.15);\n",
              "      fill: #174EA6;\n",
              "    }\n",
              "\n",
              "    .colab-df-buttons div {\n",
              "      margin-bottom: 4px;\n",
              "    }\n",
              "\n",
              "    [theme=dark] .colab-df-convert {\n",
              "      background-color: #3B4455;\n",
              "      fill: #D2E3FC;\n",
              "    }\n",
              "\n",
              "    [theme=dark] .colab-df-convert:hover {\n",
              "      background-color: #434B5C;\n",
              "      box-shadow: 0px 1px 3px 1px rgba(0, 0, 0, 0.15);\n",
              "      filter: drop-shadow(0px 1px 2px rgba(0, 0, 0, 0.3));\n",
              "      fill: #FFFFFF;\n",
              "    }\n",
              "  </style>\n",
              "\n",
              "    <script>\n",
              "      const buttonEl =\n",
              "        document.querySelector('#df-eb3eb0de-77a8-428c-9887-1b28e96df068 button.colab-df-convert');\n",
              "      buttonEl.style.display =\n",
              "        google.colab.kernel.accessAllowed ? 'block' : 'none';\n",
              "\n",
              "      async function convertToInteractive(key) {\n",
              "        const element = document.querySelector('#df-eb3eb0de-77a8-428c-9887-1b28e96df068');\n",
              "        const dataTable =\n",
              "          await google.colab.kernel.invokeFunction('convertToInteractive',\n",
              "                                                    [key], {});\n",
              "        if (!dataTable) return;\n",
              "\n",
              "        const docLinkHtml = 'Like what you see? Visit the ' +\n",
              "          '<a target=\"_blank\" href=https://colab.research.google.com/notebooks/data_table.ipynb>data table notebook</a>'\n",
              "          + ' to learn more about interactive tables.';\n",
              "        element.innerHTML = '';\n",
              "        dataTable['output_type'] = 'display_data';\n",
              "        await google.colab.output.renderOutput(dataTable, element);\n",
              "        const docLink = document.createElement('div');\n",
              "        docLink.innerHTML = docLinkHtml;\n",
              "        element.appendChild(docLink);\n",
              "      }\n",
              "    </script>\n",
              "  </div>\n",
              "\n",
              "\n",
              "<div id=\"df-c4be5b62-ee8c-4977-a6a3-9b2568a82bf8\">\n",
              "  <button class=\"colab-df-quickchart\" onclick=\"quickchart('df-c4be5b62-ee8c-4977-a6a3-9b2568a82bf8')\"\n",
              "            title=\"Suggest charts.\"\n",
              "            style=\"display:none;\">\n",
              "\n",
              "<svg xmlns=\"http://www.w3.org/2000/svg\" height=\"24px\"viewBox=\"0 0 24 24\"\n",
              "     width=\"24px\">\n",
              "    <g>\n",
              "        <path d=\"M19 3H5c-1.1 0-2 .9-2 2v14c0 1.1.9 2 2 2h14c1.1 0 2-.9 2-2V5c0-1.1-.9-2-2-2zM9 17H7v-7h2v7zm4 0h-2V7h2v10zm4 0h-2v-4h2v4z\"/>\n",
              "    </g>\n",
              "</svg>\n",
              "  </button>\n",
              "\n",
              "<style>\n",
              "  .colab-df-quickchart {\n",
              "    background-color: #E8F0FE;\n",
              "    border: none;\n",
              "    border-radius: 50%;\n",
              "    cursor: pointer;\n",
              "    display: none;\n",
              "    fill: #1967D2;\n",
              "    height: 32px;\n",
              "    padding: 0 0 0 0;\n",
              "    width: 32px;\n",
              "  }\n",
              "\n",
              "  .colab-df-quickchart:hover {\n",
              "    background-color: #E2EBFA;\n",
              "    box-shadow: 0px 1px 2px rgba(60, 64, 67, 0.3), 0px 1px 3px 1px rgba(60, 64, 67, 0.15);\n",
              "    fill: #174EA6;\n",
              "  }\n",
              "\n",
              "  [theme=dark] .colab-df-quickchart {\n",
              "    background-color: #3B4455;\n",
              "    fill: #D2E3FC;\n",
              "  }\n",
              "\n",
              "  [theme=dark] .colab-df-quickchart:hover {\n",
              "    background-color: #434B5C;\n",
              "    box-shadow: 0px 1px 3px 1px rgba(0, 0, 0, 0.15);\n",
              "    filter: drop-shadow(0px 1px 2px rgba(0, 0, 0, 0.3));\n",
              "    fill: #FFFFFF;\n",
              "  }\n",
              "</style>\n",
              "\n",
              "  <script>\n",
              "    async function quickchart(key) {\n",
              "      const charts = await google.colab.kernel.invokeFunction(\n",
              "          'suggestCharts', [key], {});\n",
              "    }\n",
              "    (() => {\n",
              "      let quickchartButtonEl =\n",
              "        document.querySelector('#df-c4be5b62-ee8c-4977-a6a3-9b2568a82bf8 button');\n",
              "      quickchartButtonEl.style.display =\n",
              "        google.colab.kernel.accessAllowed ? 'block' : 'none';\n",
              "    })();\n",
              "  </script>\n",
              "</div>\n",
              "    </div>\n",
              "  </div>\n"
            ]
          },
          "metadata": {},
          "execution_count": 11
        }
      ]
    },
    {
      "cell_type": "markdown",
      "source": [
        "## Hora do treinamento\n",
        "1° Passo: Separar em treino e teste"
      ],
      "metadata": {
        "id": "dQRRs6AnEJrc"
      }
    },
    {
      "cell_type": "code",
      "source": [
        "from sklearn.model_selection import train_test_split\n",
        "X = dataframe.drop('Especie',axis=1)\n",
        "y = dataframe['Especie'].copy()\n",
        "X_train, X_test, y_train, y_test = train_test_split(X, y, test_size=0.2, random_state = 42)"
      ],
      "metadata": {
        "id": "8Ik0y6U5EQIt"
      },
      "execution_count": null,
      "outputs": []
    },
    {
      "cell_type": "code",
      "source": [
        "print(X_train.shape, y_train.shape)"
      ],
      "metadata": {
        "colab": {
          "base_uri": "https://localhost:8080/"
        },
        "id": "nKT9wdjwEo_j",
        "outputId": "e5f7fa9d-6992-430a-8c08-f02ee353d4d2"
      },
      "execution_count": null,
      "outputs": [
        {
          "output_type": "stream",
          "name": "stdout",
          "text": [
            "(120, 4) (120,)\n"
          ]
        }
      ]
    },
    {
      "cell_type": "markdown",
      "source": [
        "## Seleção de algoritmos\n",
        "vamos usar:\n",
        " - Árvore de decisão\n",
        " - MultiLayer Perceptron (Rede neural)"
      ],
      "metadata": {
        "id": "Ht7Rlr_iEt9B"
      }
    },
    {
      "cell_type": "markdown",
      "source": [
        "### Árvore de decisão\n",
        "Algoritmo de classificação com estrutura de dados de árvore\n",
        "\n",
        "![arvore.png](data:image/png;base64,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)"
      ],
      "metadata": {
        "id": "zpWMvKtXFCtx"
      }
    },
    {
      "cell_type": "code",
      "source": [
        "from sklearn.tree import DecisionTreeClassifier\n",
        "\n",
        "clf = DecisionTreeClassifier(max_depth=2)\n",
        "clf.fit(X_train, y_train)\n",
        "clf"
      ],
      "metadata": {
        "colab": {
          "base_uri": "https://localhost:8080/",
          "height": 75
        },
        "id": "xcPjpgs5FXFH",
        "outputId": "119617f8-19cf-4e5b-9c81-dac2594b2f5b"
      },
      "execution_count": null,
      "outputs": [
        {
          "output_type": "execute_result",
          "data": {
            "text/plain": [
              "DecisionTreeClassifier(max_depth=2)"
            ],
            "text/html": [
              "<style>#sk-container-id-3 {color: black;background-color: white;}#sk-container-id-3 pre{padding: 0;}#sk-container-id-3 div.sk-toggleable {background-color: white;}#sk-container-id-3 label.sk-toggleable__label {cursor: pointer;display: block;width: 100%;margin-bottom: 0;padding: 0.3em;box-sizing: border-box;text-align: center;}#sk-container-id-3 label.sk-toggleable__label-arrow:before {content: \"▸\";float: left;margin-right: 0.25em;color: #696969;}#sk-container-id-3 label.sk-toggleable__label-arrow:hover:before {color: black;}#sk-container-id-3 div.sk-estimator:hover label.sk-toggleable__label-arrow:before {color: black;}#sk-container-id-3 div.sk-toggleable__content {max-height: 0;max-width: 0;overflow: hidden;text-align: left;background-color: #f0f8ff;}#sk-container-id-3 div.sk-toggleable__content pre {margin: 0.2em;color: black;border-radius: 0.25em;background-color: #f0f8ff;}#sk-container-id-3 input.sk-toggleable__control:checked~div.sk-toggleable__content {max-height: 200px;max-width: 100%;overflow: auto;}#sk-container-id-3 input.sk-toggleable__control:checked~label.sk-toggleable__label-arrow:before {content: \"▾\";}#sk-container-id-3 div.sk-estimator input.sk-toggleable__control:checked~label.sk-toggleable__label {background-color: #d4ebff;}#sk-container-id-3 div.sk-label input.sk-toggleable__control:checked~label.sk-toggleable__label {background-color: #d4ebff;}#sk-container-id-3 input.sk-hidden--visually {border: 0;clip: rect(1px 1px 1px 1px);clip: rect(1px, 1px, 1px, 1px);height: 1px;margin: -1px;overflow: hidden;padding: 0;position: absolute;width: 1px;}#sk-container-id-3 div.sk-estimator {font-family: monospace;background-color: #f0f8ff;border: 1px dotted black;border-radius: 0.25em;box-sizing: border-box;margin-bottom: 0.5em;}#sk-container-id-3 div.sk-estimator:hover {background-color: #d4ebff;}#sk-container-id-3 div.sk-parallel-item::after {content: \"\";width: 100%;border-bottom: 1px solid gray;flex-grow: 1;}#sk-container-id-3 div.sk-label:hover label.sk-toggleable__label {background-color: #d4ebff;}#sk-container-id-3 div.sk-serial::before {content: \"\";position: absolute;border-left: 1px solid gray;box-sizing: border-box;top: 0;bottom: 0;left: 50%;z-index: 0;}#sk-container-id-3 div.sk-serial {display: flex;flex-direction: column;align-items: center;background-color: white;padding-right: 0.2em;padding-left: 0.2em;position: relative;}#sk-container-id-3 div.sk-item {position: relative;z-index: 1;}#sk-container-id-3 div.sk-parallel {display: flex;align-items: stretch;justify-content: center;background-color: white;position: relative;}#sk-container-id-3 div.sk-item::before, #sk-container-id-3 div.sk-parallel-item::before {content: \"\";position: absolute;border-left: 1px solid gray;box-sizing: border-box;top: 0;bottom: 0;left: 50%;z-index: -1;}#sk-container-id-3 div.sk-parallel-item {display: flex;flex-direction: column;z-index: 1;position: relative;background-color: white;}#sk-container-id-3 div.sk-parallel-item:first-child::after {align-self: flex-end;width: 50%;}#sk-container-id-3 div.sk-parallel-item:last-child::after {align-self: flex-start;width: 50%;}#sk-container-id-3 div.sk-parallel-item:only-child::after {width: 0;}#sk-container-id-3 div.sk-dashed-wrapped {border: 1px dashed gray;margin: 0 0.4em 0.5em 0.4em;box-sizing: border-box;padding-bottom: 0.4em;background-color: white;}#sk-container-id-3 div.sk-label label {font-family: monospace;font-weight: bold;display: inline-block;line-height: 1.2em;}#sk-container-id-3 div.sk-label-container {text-align: center;}#sk-container-id-3 div.sk-container {/* jupyter's `normalize.less` sets `[hidden] { display: none; }` but bootstrap.min.css set `[hidden] { display: none !important; }` so we also need the `!important` here to be able to override the default hidden behavior on the sphinx rendered scikit-learn.org. See: https://github.com/scikit-learn/scikit-learn/issues/21755 */display: inline-block !important;position: relative;}#sk-container-id-3 div.sk-text-repr-fallback {display: none;}</style><div id=\"sk-container-id-3\" class=\"sk-top-container\"><div class=\"sk-text-repr-fallback\"><pre>DecisionTreeClassifier(max_depth=2)</pre><b>In a Jupyter environment, please rerun this cell to show the HTML representation or trust the notebook. <br />On GitHub, the HTML representation is unable to render, please try loading this page with nbviewer.org.</b></div><div class=\"sk-container\" hidden><div class=\"sk-item\"><div class=\"sk-estimator sk-toggleable\"><input class=\"sk-toggleable__control sk-hidden--visually\" id=\"sk-estimator-id-3\" type=\"checkbox\" checked><label for=\"sk-estimator-id-3\" class=\"sk-toggleable__label sk-toggleable__label-arrow\">DecisionTreeClassifier</label><div class=\"sk-toggleable__content\"><pre>DecisionTreeClassifier(max_depth=2)</pre></div></div></div></div></div>"
            ]
          },
          "metadata": {},
          "execution_count": 27
        }
      ]
    },
    {
      "cell_type": "code",
      "source": [],
      "metadata": {
        "id": "NS5Cf89Drag4"
      },
      "execution_count": null,
      "outputs": []
    },
    {
      "cell_type": "code",
      "source": [
        "clf.predict([[2, 3 , 0.5 , 2]])"
      ],
      "metadata": {
        "colab": {
          "base_uri": "https://localhost:8080/"
        },
        "id": "eaLKIj2JFoMf",
        "outputId": "c159e189-19b9-4a9b-b565-7d639b3a928a"
      },
      "execution_count": null,
      "outputs": [
        {
          "output_type": "stream",
          "name": "stderr",
          "text": [
            "/usr/local/lib/python3.10/dist-packages/sklearn/base.py:439: UserWarning: X does not have valid feature names, but DecisionTreeClassifier was fitted with feature names\n",
            "  warnings.warn(\n"
          ]
        },
        {
          "output_type": "execute_result",
          "data": {
            "text/plain": [
              "array([2])"
            ]
          },
          "metadata": {},
          "execution_count": 28
        }
      ]
    },
    {
      "cell_type": "markdown",
      "source": [
        "### Mas como nosso modelo esta perfomando? Precisamos usar a base de teste."
      ],
      "metadata": {
        "id": "0lWU_63lF7E5"
      }
    },
    {
      "cell_type": "code",
      "source": [
        "y_hat = clf.predict(X_test)\n",
        "y_hat"
      ],
      "metadata": {
        "colab": {
          "base_uri": "https://localhost:8080/"
        },
        "id": "lmNRJRRYFzdM",
        "outputId": "710c18f8-17fb-47e0-f14b-78f3b9399297"
      },
      "execution_count": null,
      "outputs": [
        {
          "output_type": "execute_result",
          "data": {
            "text/plain": [
              "array([1, 0, 2, 1, 2, 0, 1, 2, 1, 1, 2, 0, 0, 0, 0, 1, 2, 1, 1, 2, 0, 2,\n",
              "       0, 2, 2, 2, 2, 2, 0, 0])"
            ]
          },
          "metadata": {},
          "execution_count": 16
        }
      ]
    },
    {
      "cell_type": "code",
      "source": [
        "y_test"
      ],
      "metadata": {
        "colab": {
          "base_uri": "https://localhost:8080/"
        },
        "id": "oBfcOm2NGFKJ",
        "outputId": "c3df0c72-0d3b-43d9-92c6-0a48b063210f"
      },
      "execution_count": null,
      "outputs": [
        {
          "output_type": "execute_result",
          "data": {
            "text/plain": [
              "73     1\n",
              "18     0\n",
              "118    2\n",
              "78     1\n",
              "76     1\n",
              "31     0\n",
              "64     1\n",
              "141    2\n",
              "68     1\n",
              "82     1\n",
              "110    2\n",
              "12     0\n",
              "36     0\n",
              "9      0\n",
              "19     0\n",
              "56     1\n",
              "104    2\n",
              "69     1\n",
              "55     1\n",
              "132    2\n",
              "29     0\n",
              "127    2\n",
              "26     0\n",
              "128    2\n",
              "131    2\n",
              "145    2\n",
              "108    2\n",
              "143    2\n",
              "45     0\n",
              "30     0\n",
              "Name: Especie, dtype: int64"
            ]
          },
          "metadata": {},
          "execution_count": 17
        }
      ]
    },
    {
      "cell_type": "markdown",
      "source": [
        "## Vamos aprender um pouco sobre as métricas para avaliação de modelos de classificação\n",
        "- Matriz de confusão:Representação gráfica das predições e erros do modelo.\n",
        "\n",
        "![image.png](data:image/png;base64,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)\n",
        "\n",
        "\n",
        "- Acurácia: Indica a performance Geral do modelo\n",
        "- Precisão: Dentre todas as classificações de classe Positivo que o modelo fez, quantas estão corretas.\n",
        "  ![image.png](data:image/png;base64,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)\n",
        "- Recall (Revocação): dentre todas as situações de classe Negativo como valor esperado, quantas estão corretas;\n",
        "![image.png](data:image/png;base64,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)\n",
        "\n",
        "Fonte das imagens: https://medium.com/data-hackers/indo-al%C3%A9m-da-acur%C3%A1cia-entendo-a-acur%C3%A1cia-balanceada-precis%C3%A3o-recall-e-f1-score-c895e55a9753"
      ],
      "metadata": {
        "id": "GU-rifQpKAtf"
      }
    },
    {
      "cell_type": "markdown",
      "source": [],
      "metadata": {
        "id": "_T_rCkuQKbbK"
      }
    },
    {
      "cell_type": "code",
      "source": [
        "from sklearn.metrics import accuracy_score, precision_score, recall_score\n",
        "acc = accuracy_score(y_test,y_hat)\n",
        "precision = precision_score(y_test,y_hat,average=None)\n",
        "recall = recall_score(y_test,y_hat, average = None)\n",
        "print(f'Accuracia: {acc},\\n Precision: {precision},\\n Recall: {recall} \\n')"
      ],
      "metadata": {
        "colab": {
          "base_uri": "https://localhost:8080/"
        },
        "id": "Qt5l8UvMGSQ3",
        "outputId": "cda1071e-6612-412d-b09d-c2e100e7cdc7"
      },
      "execution_count": null,
      "outputs": [
        {
          "output_type": "stream",
          "name": "stdout",
          "text": [
            "Accuracia: 0.9666666666666667,\n",
            " Precision: [1.         1.         0.91666667],\n",
            " Recall: [1.         0.88888889 1.        ] \n",
            "\n"
          ]
        }
      ]
    },
    {
      "cell_type": "code",
      "source": [
        "from sklearn.metrics import confusion_matrix\n",
        "\n",
        "conf_mx = confusion_matrix(y_test, y_hat,)\n",
        "conf_mx"
      ],
      "metadata": {
        "colab": {
          "base_uri": "https://localhost:8080/"
        },
        "id": "42X-P-IdGu-U",
        "outputId": "1411ebff-d233-4a6a-f96a-b9f8db60bc19"
      },
      "execution_count": null,
      "outputs": [
        {
          "output_type": "execute_result",
          "data": {
            "text/plain": [
              "array([[10,  0,  0],\n",
              "       [ 0,  8,  1],\n",
              "       [ 0,  0, 11]])"
            ]
          },
          "metadata": {},
          "execution_count": 19
        }
      ]
    },
    {
      "cell_type": "code",
      "source": [
        "sns.heatmap(conf_mx,annot=True)"
      ],
      "metadata": {
        "colab": {
          "base_uri": "https://localhost:8080/",
          "height": 447
        },
        "id": "26En-R8VHgW1",
        "outputId": "7a30896d-cfcd-490d-9a6c-f58733070814"
      },
      "execution_count": null,
      "outputs": [
        {
          "output_type": "execute_result",
          "data": {
            "text/plain": [
              "<Axes: >"
            ]
          },
          "metadata": {},
          "execution_count": 20
        },
        {
          "output_type": "display_data",
          "data": {
            "text/plain": [
              "<Figure size 640x480 with 2 Axes>"
            ],
            "image/png": "[encoded data removed]"
          },
          "metadata": {}
        }
      ]
    },
    {
      "cell_type": "markdown",
      "source": [
        "Métodos de treinamento\n",
        "- HoldOut\n",
        "- Kfold\n",
        "- Leave one out\n"
      ],
      "metadata": {
        "id": "ix2FwbehMTbk"
      }
    },
    {
      "cell_type": "markdown",
      "source": [
        "## Aplicando o Kfold"
      ],
      "metadata": {
        "id": "OXImsSiBMcQf"
      }
    },
    {
      "cell_type": "code",
      "source": [
        "from sklearn.model_selection import KFold\n",
        "kf = KFold(n_splits=3,shuffle= True, random_state= 42)\n",
        "kf.get_n_splits(X)"
      ],
      "metadata": {
        "colab": {
          "base_uri": "https://localhost:8080/"
        },
        "id": "5kXHzDUmMd3D",
        "outputId": "40819786-ff85-4bbb-be45-d060fbea1800"
      },
      "execution_count": null,
      "outputs": [
        {
          "output_type": "execute_result",
          "data": {
            "text/plain": [
              "3"
            ]
          },
          "metadata": {},
          "execution_count": 21
        }
      ]
    },
    {
      "cell_type": "code",
      "source": [
        "from sklearn.neighbors import KNeighborsClassifier\n",
        "scores=[]\n",
        "for i, (train_index, test_index) in enumerate(kf.split(X)):\n",
        "    print(train_index, test_index)\n",
        "    X_train = X.iloc[train_index]\n",
        "    y_train =  y.iloc[train_index]\n",
        "    X_test = X.iloc[test_index]\n",
        "    y_test = y.iloc[test_index]\n",
        "    clf = KNeighborsClassifier(n_neighbors=3)\n",
        "    clf.fit(X_train, y_train)\n",
        "    scores.append(clf.score(X_test, y_test))"
      ],
      "metadata": {
        "id": "1NnDaxU4M3C_",
        "colab": {
          "base_uri": "https://localhost:8080/"
        },
        "outputId": "241d717f-814a-4e06-ead9-236ac71e1f13"
      },
      "execution_count": null,
      "outputs": [
        {
          "output_type": "stream",
          "name": "stdout",
          "text": [
            "[  0   1   2   3   5   6   7   8  13  14  17  20  21  23  24  25  28  33\n",
            "  34  35  37  38  39  40  41  43  44  46  47  48  49  50  52  53  54  57\n",
            "  58  59  60  61  62  63  66  67  70  71  72  74  77  79  80  83  84  87\n",
            "  88  89  90  91  92  93  94  95  96  97  98  99 100 101 102 103 105 106\n",
            " 107 111 112 113 114 115 116 117 119 120 121 122 123 124 125 126 129 130\n",
            " 134 135 136 138 139 140 144 147 148 149] [  4   9  10  11  12  15  16  18  19  22  26  27  29  30  31  32  36  42\n",
            "  45  51  55  56  64  65  68  69  73  75  76  78  81  82  85  86 104 108\n",
            " 109 110 118 127 128 131 132 133 137 141 142 143 145 146]\n",
            "[  1   2   3   4   6   9  10  11  12  14  15  16  17  18  19  20  21  22\n",
            "  26  27  29  30  31  32  36  37  38  41  42  45  46  48  50  51  52  54\n",
            "  55  56  57  58  59  61  63  64  65  68  69  71  72  73  74  75  76  78\n",
            "  79  81  82  85  86  87  88  90  91  92  99 100 102 103 104 106 107 108\n",
            " 109 110 112 115 116 118 121 124 126 127 128 129 130 131 132 133 136 137\n",
            " 139 140 141 142 143 144 145 146 147 149] [  0   5   7   8  13  23  24  25  28  33  34  35  39  40  43  44  47  49\n",
            "  53  60  62  66  67  70  77  80  83  84  89  93  94  95  96  97  98 101\n",
            " 105 111 113 114 117 119 120 122 123 125 134 135 138 148]\n",
            "[  0   4   5   7   8   9  10  11  12  13  15  16  18  19  22  23  24  25\n",
            "  26  27  28  29  30  31  32  33  34  35  36  39  40  42  43  44  45  47\n",
            "  49  51  53  55  56  60  62  64  65  66  67  68  69  70  73  75  76  77\n",
            "  78  80  81  82  83  84  85  86  89  93  94  95  96  97  98 101 104 105\n",
            " 108 109 110 111 113 114 117 118 119 120 122 123 125 127 128 131 132 133\n",
            " 134 135 137 138 141 142 143 145 146 148] [  1   2   3   6  14  17  20  21  37  38  41  46  48  50  52  54  57  58\n",
            "  59  61  63  71  72  74  79  87  88  90  91  92  99 100 102 103 106 107\n",
            " 112 115 116 121 124 126 129 130 136 139 140 144 147 149]\n"
          ]
        }
      ]
    },
    {
      "cell_type": "code",
      "source": [
        "scores"
      ],
      "metadata": {
        "colab": {
          "base_uri": "https://localhost:8080/"
        },
        "id": "bL1JenhNPKlt",
        "outputId": "3c00e22e-dd55-4a9e-bce4-d74ce3ad4927"
      },
      "execution_count": null,
      "outputs": [
        {
          "output_type": "execute_result",
          "data": {
            "text/plain": [
              "[0.98, 0.92, 0.94]"
            ]
          },
          "metadata": {},
          "execution_count": 23
        }
      ]
    },
    {
      "cell_type": "code",
      "source": [
        "import matplotlib.pyplot as plt\n",
        "import seaborn as sns\n",
        "\n",
        "indice_maior_score = scores.index(max(scores))\n",
        "\n",
        "plt.figure(figsize=(6, 4))\n",
        "bar_colors = ['grey'] * len(scores)\n",
        "bar_colors[indice_maior_score] = 'blue'\n",
        "ax = sns.barplot(x=[0, 1, 2], y=scores, palette=bar_colors)\n",
        "\n",
        "for i, score in enumerate(scores):\n",
        "    ax.text(i, score + 0.01, f'{score:.2f}', ha='center')\n",
        "\n",
        "plt.title('Scores a cada iteração do Kfold')\n",
        "plt.xlabel('K-fold')\n",
        "plt.ylabel('Score')\n",
        "plt.xticks(range(len(scores)), labels=['1 Fold', '2 Fold', '3 Fold'])\n",
        "plt.ylim(0, 1)\n",
        "plt.show()\n"
      ],
      "metadata": {
        "colab": {
          "base_uri": "https://localhost:8080/",
          "height": 410
        },
        "id": "vTyfPJWTOQh5",
        "outputId": "c3e10414-a7a3-4d4e-bef2-2b0aa3a1e595"
      },
      "execution_count": null,
      "outputs": [
        {
          "output_type": "display_data",
          "data": {
            "text/plain": [
              "<Figure size 600x400 with 1 Axes>"
            ],
            "image/png": "[encoded data removed]"
          },
          "metadata": {}
        }
      ]
    },
    {
      "cell_type": "markdown",
      "source": [
        "### Pontos positivos\n",
        "Custo Computacional Mais Gerenciável: Embora a validação cruzada k-fold envolva mais iterações do que uma única divisão entre treinamento e teste, é mais computacionalmente eficiente do que o Leave-One-Out, especialmente em conjuntos de dados maiores.\n",
        "\n",
        "Robustez contra Outliers: A validação cruzada k-fold é mais robusta contra pontos de dados atípicos (outliers) em comparação com o Leave-One-Out, porque cada ponto de dados é utilizado em várias iterações e não tem um impacto desproporcional em um único teste."
      ],
      "metadata": {
        "id": "gDXrr03vz5ON"
      }
    },
    {
      "cell_type": "markdown",
      "source": [
        "### Leave one out"
      ],
      "metadata": {
        "id": "cMUkmlZAy84M"
      }
    },
    {
      "cell_type": "code",
      "source": [
        "from sklearn.neighbors import KNeighborsClassifier\n",
        "from sklearn.model_selection import LeaveOneOut\n",
        "import numpy as np\n",
        "\n",
        "loo = LeaveOneOut()\n",
        "scores = []\n",
        "clf = KNeighborsClassifier(n_neighbors=3)\n",
        "\n",
        "for train_index, test_index in loo.split(X):\n",
        "    X_train, X_test = X.iloc[train_index], X.iloc[test_index]\n",
        "    y_train, y_test = y.iloc[train_index], y.iloc[test_index]\n",
        "\n",
        "    clf.fit(X_train, y_train)\n",
        "    score = clf.score(X_test, y_test)\n",
        "    scores.append(score)\n",
        "\n",
        "average_accuracy = np.mean(scores)\n",
        "print(\"Average Accuracy:\", average_accuracy)\n"
      ],
      "metadata": {
        "colab": {
          "base_uri": "https://localhost:8080/"
        },
        "id": "IUB1Pa6_y7PL",
        "outputId": "0f2840d6-4ad0-4c60-ec33-a58681021c2e"
      },
      "execution_count": null,
      "outputs": [
        {
          "output_type": "stream",
          "name": "stdout",
          "text": [
            "Average Accuracy: 0.96\n"
          ]
        }
      ]
    },
    {
      "cell_type": "markdown",
      "source": [
        "### Pontos positivos\n",
        "- Avaliação de Desempenho Rigorosa: O LOO fornece uma avaliação extremamente rigorosa do desempenho do modelo. Cada ponto de dados no conjunto de treinamento é usado uma vez como conjunto de teste, o que reduz a possibilidade de viés no resultado.\n",
        "- Aproveitamento Máximo dos Dados: Em um conjunto de dados pequeno, o LOO garante que você esteja tirando o máximo proveito possível de cada ponto de dados. Isso é crucial quando os dados são escassos e cada amostra é valiosa.\n",
        "\n",
        "### Ponto negativo\n",
        "- Alto custo computacional"
      ],
      "metadata": {
        "id": "Sd9iDld1zmcW"
      }
    },
    {
      "cell_type": "code",
      "source": [],
      "metadata": {
        "id": "Nm8fNWNCzn8J"
      },
      "execution_count": null,
      "outputs": []
    }
  ]
}